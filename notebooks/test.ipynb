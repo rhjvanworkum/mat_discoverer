{
 "cells": [
  {
   "cell_type": "code",
   "execution_count": 41,
   "metadata": {},
   "outputs": [
    {
     "name": "stdout",
     "output_type": "stream",
     "text": [
      "[12, 3]\n"
     ]
    }
   ],
   "source": [
    "import random\n",
    "from pyxtal import pyxtal\n",
    "from pyxtal.msg import Comp_CompatibilityError\n",
    "\n",
    "from typing import List\n",
    "\n",
    "\n",
    "def generate_random_crystal_structure_from_composition(\n",
    "    species: List[str],\n",
    "    num_species: List[int],\n",
    "):\n",
    "    \"\"\"\n",
    "    This function is meant to sample random crystal structures from a given composition using PyXtal.\n",
    "    The inputs of a structure generation function are basically:\n",
    "    1) The spacegroup\n",
    "    2) The composition\n",
    "    3) The volume factor\n",
    "    4) The lattice parameters\n",
    "\n",
    "    Luckily PyXtal generates random lattice parameters for us consistent with the symmetry of the space group.\n",
    "    Therefore, we only need to randomly sample the space group, number of atoms and volume factor.\n",
    "    \"\"\"\n",
    "    volume_factor = random.uniform(0.9, 1.1)\n",
    "    composition_frac = 1 / min(num_species)\n",
    "    composition_multiplicative_factor = random.randint(1, 3)\n",
    "    print([int(num * composition_multiplicative_factor * composition_frac) for num in num_species])\n",
    "    success = False\n",
    "    while not success:\n",
    "        try:\n",
    "            my_crystal = pyxtal()\n",
    "            my_crystal.from_random(\n",
    "                dim=3,\n",
    "                group=random.randint(1, 230),\n",
    "                species=species,\n",
    "                numIons=[int(num * composition_multiplicative_factor * composition_frac) for num in num_species],\n",
    "                factor=volume_factor,\n",
    "            )\n",
    "            success = True\n",
    "        except Comp_CompatibilityError as e:\n",
    "            continue\n",
    "\n",
    "    return my_crystal\n",
    "\n",
    "my_crystal = generate_random_crystal_structure_from_composition(['Li', 'O'], [0.8, 0.2])\n",
    "my_crystal.show()"
   ]
  },
  {
   "cell_type": "code",
   "execution_count": 24,
   "metadata": {},
   "outputs": [
    {
     "name": "stdout",
     "output_type": "stream",
     "text": [
      "{4, 5, 7, 8, 11, 12, 13, 14, 17, 18, 21, 23, 26, 27, 28, 30, 31, 32, 34, 35, 38, 44, 48, 49, 50, 51, 53, 55, 58, 59, 65, 71, 77, 79, 82, 84, 85, 86, 87, 90, 93, 94, 97, 100, 101, 102, 103, 104, 105, 107, 112, 113, 114, 116, 117, 118, 119, 121, 124, 125, 126, 127, 128, 129, 131, 132, 134, 136, 137, 139, 158, 159, 163, 165, 173, 176, 182, 184, 185, 186, 188, 190, 192, 193, 194, 197, 201, 204, 208, 211, 217, 218, 222, 223, 224, 229}\n"
     ]
    }
   ],
   "source": [
    "print(set(success_2) - set(success_3))"
   ]
  },
  {
   "cell_type": "code",
   "execution_count": null,
   "metadata": {},
   "outputs": [],
   "source": []
  }
 ],
 "metadata": {
  "kernelspec": {
   "display_name": "mat",
   "language": "python",
   "name": "python3"
  },
  "language_info": {
   "codemirror_mode": {
    "name": "ipython",
    "version": 3
   },
   "file_extension": ".py",
   "mimetype": "text/x-python",
   "name": "python",
   "nbconvert_exporter": "python",
   "pygments_lexer": "ipython3",
   "version": "3.11.9"
  }
 },
 "nbformat": 4,
 "nbformat_minor": 2
}
