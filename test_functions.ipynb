{
 "cells": [
  {
   "cell_type": "markdown",
   "metadata": {},
   "source": [
    "# This notebook can be used to interact a bit with the functions"
   ]
  },
  {
   "cell_type": "code",
   "execution_count": 1,
   "metadata": {},
   "outputs": [],
   "source": [
    "from src.generate_random_crystals import generate_random_crystal_structure_from_composition\n",
    "from pyxtal import pyxtal\n",
    "\n",
    "# very annoying, but it seems this is the best way to visualize a pymatgen structure\n",
    "def pymatgen_to_pyxtal(crystal):\n",
    "    crystal.to(filename=\"structure.cif\")\n",
    "    pyxtal_crystal = pyxtal()\n",
    "    pyxtal_crystal.from_seed(\"structure.cif\")\n",
    "    return pyxtal_crystal"
   ]
  },
  {
   "cell_type": "markdown",
   "metadata": {},
   "source": [
    "### 1. Test randomly generating crystal structures"
   ]
  },
  {
   "cell_type": "code",
   "execution_count": 12,
   "metadata": {},
   "outputs": [
    {
     "data": {
      "application/3dmoljs_load.v0": "<div id=\"3dmolviewer_17263312918814263\"  style=\"position: relative; width: 600px; height: 300px;\">\n        <p id=\"3dmolwarning_17263312918814263\" style=\"background-color:#ffcccc;color:black\">3Dmol.js failed to load for some reason.  Please check your browser console for error messages.<br></p>\n        </div>\n<script>\n\nvar loadScriptAsync = function(uri){\n  return new Promise((resolve, reject) => {\n    //this is to ignore the existence of requirejs amd\n    var savedexports, savedmodule;\n    if (typeof exports !== 'undefined') savedexports = exports;\n    else exports = {}\n    if (typeof module !== 'undefined') savedmodule = module;\n    else module = {}\n\n    var tag = document.createElement('script');\n    tag.src = uri;\n    tag.async = true;\n    tag.onload = () => {\n        exports = savedexports;\n        module = savedmodule;\n        resolve();\n    };\n  var firstScriptTag = document.getElementsByTagName('script')[0];\n  firstScriptTag.parentNode.insertBefore(tag, firstScriptTag);\n});\n};\n\nif(typeof $3Dmolpromise === 'undefined') {\n$3Dmolpromise = null;\n  $3Dmolpromise = loadScriptAsync('https://cdnjs.cloudflare.com/ajax/libs/3Dmol/2.4.0/3Dmol-min.js');\n}\n\nvar viewer_17263312918814263 = null;\nvar warn = document.getElementById(\"3dmolwarning_17263312918814263\");\nif(warn) {\n    warn.parentNode.removeChild(warn);\n}\n$3Dmolpromise.then(function() {\nviewer_17263312918814263 = $3Dmol.createViewer(document.getElementById(\"3dmolviewer_17263312918814263\"),{backgroundColor:\"white\"});\nviewer_17263312918814263.zoomTo();\n\tviewer_17263312918814263.addModel(\"#############################################################\\n#             ______       _    _          _                #\\n#            (_____ \\\\     \\\\ \\\\  / /        | |               #\\n#             _____) )   _ \\\\ \\\\/ / |_  ____| |               #\\n#            |  ____/ | | | )  (|  _)/ _  | |               #\\n#            | |    | |_| |/ /\\\\ \\\\ |_( (_| | |___            #\\n#            |_|     \\\\__  /_/  \\\\_\\\\___)__|_|_____)           #\\n#                   (____/                                  #\\n#---------------------(version    1.0.3)--------------------#\\n#       A Python package for random crystal generation      #\\n#       url: https://github.com/qzhu2017/pyxtal             #\\n#       @Zhu's group at University of Nevada Las Vegas      #\\n#############################################################\\ndata_from_pyxtal\\n\\n_symmetry_space_group_name_H-M 'Pmmm'\\n_symmetry_Int_Tables_number                   47\\n_symmetry_cell_setting              orthorhombic\\n_cell_length_a            6.462294\\n_cell_length_b            7.196649\\n_cell_length_c            9.294100\\n_cell_angle_alpha        90.000000\\n_cell_angle_beta         90.000000\\n_cell_angle_gamma        90.000000\\n_cell_volume            432.239412\\n\\nloop_\\n _symmetry_equiv_pos_site_id\\n _symmetry_equiv_pos_as_xyz\\n1 'x, y, z'\\n2 '-x, -y, z'\\n3 '-x, y, -z'\\n4 'x, -y, -z'\\n5 '-x, -y, -z'\\n6 'x, y, -z'\\n7 'x, -y, z'\\n8 '-x, y, z'\\n\\nloop_\\n _atom_site_label\\n _atom_site_type_symbol\\n _atom_site_symmetry_multiplicity\\n _atom_site_fract_x\\n _atom_site_fract_y\\n _atom_site_fract_z\\n _atom_site_occupancy\\nLi     Li       4     0.239912    0.629683    0.000000 1\\nLi     Li       4     0.500000    0.686830    0.306034 1\\nLi     Li       1     0.000000    0.000000    0.500000 1\\nLi     Li       2     0.500000    0.000000    0.201793 1\\nLi     Li       2     0.241547    0.500000    0.500000 1\\nLi     Li       1     0.500000    0.500000    0.000000 1\\nLi     Li       2     0.500000    0.886896    0.000000 1\\nCu     Cu       2     0.500000    0.295906    0.500000 1\\nO      O        1     0.000000    0.500000    0.500000 1\\nO      O        1     0.000000    0.500000    0.000000 1\\n#END\\n\\n\",\"cif\",{\"doAssembly\": true, \"duplicateAssemblyAtoms\": true});\n\tviewer_17263312918814263.setStyle({\"sphere\": {\"colorscheme\": \"Jmol\", \"scale\": 0.25}, \"stick\": {\"colorscheme\": \"Jmol\", \"radius\": 0.1}});\n\tviewer_17263312918814263.addUnitCell();\n\tviewer_17263312918814263.replicateUnitCell(1,1,1);\n\tviewer_17263312918814263.zoomTo();\nviewer_17263312918814263.render();\n});\n</script>",
      "text/html": [
       "<div id=\"3dmolviewer_17263312918814263\"  style=\"position: relative; width: 600px; height: 300px;\">\n",
       "        <p id=\"3dmolwarning_17263312918814263\" style=\"background-color:#ffcccc;color:black\">3Dmol.js failed to load for some reason.  Please check your browser console for error messages.<br></p>\n",
       "        </div>\n",
       "<script>\n",
       "\n",
       "var loadScriptAsync = function(uri){\n",
       "  return new Promise((resolve, reject) => {\n",
       "    //this is to ignore the existence of requirejs amd\n",
       "    var savedexports, savedmodule;\n",
       "    if (typeof exports !== 'undefined') savedexports = exports;\n",
       "    else exports = {}\n",
       "    if (typeof module !== 'undefined') savedmodule = module;\n",
       "    else module = {}\n",
       "\n",
       "    var tag = document.createElement('script');\n",
       "    tag.src = uri;\n",
       "    tag.async = true;\n",
       "    tag.onload = () => {\n",
       "        exports = savedexports;\n",
       "        module = savedmodule;\n",
       "        resolve();\n",
       "    };\n",
       "  var firstScriptTag = document.getElementsByTagName('script')[0];\n",
       "  firstScriptTag.parentNode.insertBefore(tag, firstScriptTag);\n",
       "});\n",
       "};\n",
       "\n",
       "if(typeof $3Dmolpromise === 'undefined') {\n",
       "$3Dmolpromise = null;\n",
       "  $3Dmolpromise = loadScriptAsync('https://cdnjs.cloudflare.com/ajax/libs/3Dmol/2.4.0/3Dmol-min.js');\n",
       "}\n",
       "\n",
       "var viewer_17263312918814263 = null;\n",
       "var warn = document.getElementById(\"3dmolwarning_17263312918814263\");\n",
       "if(warn) {\n",
       "    warn.parentNode.removeChild(warn);\n",
       "}\n",
       "$3Dmolpromise.then(function() {\n",
       "viewer_17263312918814263 = $3Dmol.createViewer(document.getElementById(\"3dmolviewer_17263312918814263\"),{backgroundColor:\"white\"});\n",
       "viewer_17263312918814263.zoomTo();\n",
       "\tviewer_17263312918814263.addModel(\"#############################################################\\n#             ______       _    _          _                #\\n#            (_____ \\\\     \\\\ \\\\  / /        | |               #\\n#             _____) )   _ \\\\ \\\\/ / |_  ____| |               #\\n#            |  ____/ | | | )  (|  _)/ _  | |               #\\n#            | |    | |_| |/ /\\\\ \\\\ |_( (_| | |___            #\\n#            |_|     \\\\__  /_/  \\\\_\\\\___)__|_|_____)           #\\n#                   (____/                                  #\\n#---------------------(version    1.0.3)--------------------#\\n#       A Python package for random crystal generation      #\\n#       url: https://github.com/qzhu2017/pyxtal             #\\n#       @Zhu's group at University of Nevada Las Vegas      #\\n#############################################################\\ndata_from_pyxtal\\n\\n_symmetry_space_group_name_H-M 'Pmmm'\\n_symmetry_Int_Tables_number                   47\\n_symmetry_cell_setting              orthorhombic\\n_cell_length_a            6.462294\\n_cell_length_b            7.196649\\n_cell_length_c            9.294100\\n_cell_angle_alpha        90.000000\\n_cell_angle_beta         90.000000\\n_cell_angle_gamma        90.000000\\n_cell_volume            432.239412\\n\\nloop_\\n _symmetry_equiv_pos_site_id\\n _symmetry_equiv_pos_as_xyz\\n1 'x, y, z'\\n2 '-x, -y, z'\\n3 '-x, y, -z'\\n4 'x, -y, -z'\\n5 '-x, -y, -z'\\n6 'x, y, -z'\\n7 'x, -y, z'\\n8 '-x, y, z'\\n\\nloop_\\n _atom_site_label\\n _atom_site_type_symbol\\n _atom_site_symmetry_multiplicity\\n _atom_site_fract_x\\n _atom_site_fract_y\\n _atom_site_fract_z\\n _atom_site_occupancy\\nLi     Li       4     0.239912    0.629683    0.000000 1\\nLi     Li       4     0.500000    0.686830    0.306034 1\\nLi     Li       1     0.000000    0.000000    0.500000 1\\nLi     Li       2     0.500000    0.000000    0.201793 1\\nLi     Li       2     0.241547    0.500000    0.500000 1\\nLi     Li       1     0.500000    0.500000    0.000000 1\\nLi     Li       2     0.500000    0.886896    0.000000 1\\nCu     Cu       2     0.500000    0.295906    0.500000 1\\nO      O        1     0.000000    0.500000    0.500000 1\\nO      O        1     0.000000    0.500000    0.000000 1\\n#END\\n\\n\",\"cif\",{\"doAssembly\": true, \"duplicateAssemblyAtoms\": true});\n",
       "\tviewer_17263312918814263.setStyle({\"sphere\": {\"colorscheme\": \"Jmol\", \"scale\": 0.25}, \"stick\": {\"colorscheme\": \"Jmol\", \"radius\": 0.1}});\n",
       "\tviewer_17263312918814263.addUnitCell();\n",
       "\tviewer_17263312918814263.replicateUnitCell(1,1,1);\n",
       "\tviewer_17263312918814263.zoomTo();\n",
       "viewer_17263312918814263.render();\n",
       "});\n",
       "</script>"
      ]
     },
     "metadata": {},
     "output_type": "display_data"
    },
    {
     "data": {
      "text/plain": [
       "<py3Dmol.view at 0x7f8896bce090>"
      ]
     },
     "execution_count": 12,
     "metadata": {},
     "output_type": "execute_result"
    }
   ],
   "source": [
    "my_crystal = generate_random_crystal_structure_from_composition(['Li', 'O', 'Cu'], [0.8, 0.1, 0.1])\n",
    "pyxtal_crystal = pymatgen_to_pyxtal(my_crystal)\n",
    "pyxtal_crystal.show()"
   ]
  },
  {
   "cell_type": "markdown",
   "metadata": {},
   "source": [
    "### 2. Test crossover of two crystal"
   ]
  },
  {
   "cell_type": "code",
   "execution_count": 14,
   "metadata": {},
   "outputs": [
    {
     "data": {
      "application/3dmoljs_load.v0": "<div id=\"3dmolviewer_17263314186405253\"  style=\"position: relative; width: 600px; height: 300px;\">\n        <p id=\"3dmolwarning_17263314186405253\" style=\"background-color:#ffcccc;color:black\">3Dmol.js failed to load for some reason.  Please check your browser console for error messages.<br></p>\n        </div>\n<script>\n\nvar loadScriptAsync = function(uri){\n  return new Promise((resolve, reject) => {\n    //this is to ignore the existence of requirejs amd\n    var savedexports, savedmodule;\n    if (typeof exports !== 'undefined') savedexports = exports;\n    else exports = {}\n    if (typeof module !== 'undefined') savedmodule = module;\n    else module = {}\n\n    var tag = document.createElement('script');\n    tag.src = uri;\n    tag.async = true;\n    tag.onload = () => {\n        exports = savedexports;\n        module = savedmodule;\n        resolve();\n    };\n  var firstScriptTag = document.getElementsByTagName('script')[0];\n  firstScriptTag.parentNode.insertBefore(tag, firstScriptTag);\n});\n};\n\nif(typeof $3Dmolpromise === 'undefined') {\n$3Dmolpromise = null;\n  $3Dmolpromise = loadScriptAsync('https://cdnjs.cloudflare.com/ajax/libs/3Dmol/2.4.0/3Dmol-min.js');\n}\n\nvar viewer_17263314186405253 = null;\nvar warn = document.getElementById(\"3dmolwarning_17263314186405253\");\nif(warn) {\n    warn.parentNode.removeChild(warn);\n}\n$3Dmolpromise.then(function() {\nviewer_17263314186405253 = $3Dmol.createViewer(document.getElementById(\"3dmolviewer_17263314186405253\"),{backgroundColor:\"white\"});\nviewer_17263314186405253.zoomTo();\n\tviewer_17263314186405253.addModel(\"#############################################################\\n#             ______       _    _          _                #\\n#            (_____ \\\\     \\\\ \\\\  / /        | |               #\\n#             _____) )   _ \\\\ \\\\/ / |_  ____| |               #\\n#            |  ____/ | | | )  (|  _)/ _  | |               #\\n#            | |    | |_| |/ /\\\\ \\\\ |_( (_| | |___            #\\n#            |_|     \\\\__  /_/  \\\\_\\\\___)__|_|_____)           #\\n#                   (____/                                  #\\n#---------------------(version    1.0.3)--------------------#\\n#       A Python package for random crystal generation      #\\n#       url: https://github.com/qzhu2017/pyxtal             #\\n#       @Zhu's group at University of Nevada Las Vegas      #\\n#############################################################\\ndata_from_pyxtal\\n\\n_symmetry_space_group_name_H-M 'Pm'\\n_symmetry_Int_Tables_number                    6\\n_symmetry_cell_setting                monoclinic\\n_cell_length_a            4.366794\\n_cell_length_b            3.995555\\n_cell_length_c            9.469097\\n_cell_angle_alpha        90.000000\\n_cell_angle_beta        101.221374\\n_cell_angle_gamma        90.000000\\n_cell_volume            162.056122\\n\\nloop_\\n _symmetry_equiv_pos_site_id\\n _symmetry_equiv_pos_as_xyz\\n1 'x, y, z'\\n2 'x, -y, z'\\n\\nloop_\\n _atom_site_label\\n _atom_site_type_symbol\\n _atom_site_symmetry_multiplicity\\n _atom_site_fract_x\\n _atom_site_fract_y\\n _atom_site_fract_z\\n _atom_site_occupancy\\nLi     Li       1     0.320714    0.000000    0.895992 1\\nLi     Li       2     0.569806    0.336313    0.086352 1\\nLi     Li       1     0.105074    0.500000    0.072895 1\\nLi     Li       1     0.291510    0.500000    0.350309 1\\nLi     Li       1     0.229865    0.500000    0.529516 1\\nLi     Li       1     0.778986    0.000000    0.426603 1\\nLi     Li       1     0.823526    0.500000    0.210356 1\\nLi     Li       2     0.772697    0.224748    0.960240 1\\nLi     Li       2     0.059831    0.753827    0.385803 1\\nO      O        1     0.066265    0.500000    0.759676 1\\nO      O        1     0.286783    0.000000    0.065959 1\\nO      O        1     0.352276    0.000000    0.461158 1\\n#END\\n\\n\",\"cif\",{\"doAssembly\": true, \"duplicateAssemblyAtoms\": true});\n\tviewer_17263314186405253.setStyle({\"sphere\": {\"colorscheme\": \"Jmol\", \"scale\": 0.25}, \"stick\": {\"colorscheme\": \"Jmol\", \"radius\": 0.1}});\n\tviewer_17263314186405253.addUnitCell();\n\tviewer_17263314186405253.replicateUnitCell(1,1,1);\n\tviewer_17263314186405253.zoomTo();\nviewer_17263314186405253.render();\n});\n</script>",
      "text/html": [
       "<div id=\"3dmolviewer_17263314186405253\"  style=\"position: relative; width: 600px; height: 300px;\">\n",
       "        <p id=\"3dmolwarning_17263314186405253\" style=\"background-color:#ffcccc;color:black\">3Dmol.js failed to load for some reason.  Please check your browser console for error messages.<br></p>\n",
       "        </div>\n",
       "<script>\n",
       "\n",
       "var loadScriptAsync = function(uri){\n",
       "  return new Promise((resolve, reject) => {\n",
       "    //this is to ignore the existence of requirejs amd\n",
       "    var savedexports, savedmodule;\n",
       "    if (typeof exports !== 'undefined') savedexports = exports;\n",
       "    else exports = {}\n",
       "    if (typeof module !== 'undefined') savedmodule = module;\n",
       "    else module = {}\n",
       "\n",
       "    var tag = document.createElement('script');\n",
       "    tag.src = uri;\n",
       "    tag.async = true;\n",
       "    tag.onload = () => {\n",
       "        exports = savedexports;\n",
       "        module = savedmodule;\n",
       "        resolve();\n",
       "    };\n",
       "  var firstScriptTag = document.getElementsByTagName('script')[0];\n",
       "  firstScriptTag.parentNode.insertBefore(tag, firstScriptTag);\n",
       "});\n",
       "};\n",
       "\n",
       "if(typeof $3Dmolpromise === 'undefined') {\n",
       "$3Dmolpromise = null;\n",
       "  $3Dmolpromise = loadScriptAsync('https://cdnjs.cloudflare.com/ajax/libs/3Dmol/2.4.0/3Dmol-min.js');\n",
       "}\n",
       "\n",
       "var viewer_17263314186405253 = null;\n",
       "var warn = document.getElementById(\"3dmolwarning_17263314186405253\");\n",
       "if(warn) {\n",
       "    warn.parentNode.removeChild(warn);\n",
       "}\n",
       "$3Dmolpromise.then(function() {\n",
       "viewer_17263314186405253 = $3Dmol.createViewer(document.getElementById(\"3dmolviewer_17263314186405253\"),{backgroundColor:\"white\"});\n",
       "viewer_17263314186405253.zoomTo();\n",
       "\tviewer_17263314186405253.addModel(\"#############################################################\\n#             ______       _    _          _                #\\n#            (_____ \\\\     \\\\ \\\\  / /        | |               #\\n#             _____) )   _ \\\\ \\\\/ / |_  ____| |               #\\n#            |  ____/ | | | )  (|  _)/ _  | |               #\\n#            | |    | |_| |/ /\\\\ \\\\ |_( (_| | |___            #\\n#            |_|     \\\\__  /_/  \\\\_\\\\___)__|_|_____)           #\\n#                   (____/                                  #\\n#---------------------(version    1.0.3)--------------------#\\n#       A Python package for random crystal generation      #\\n#       url: https://github.com/qzhu2017/pyxtal             #\\n#       @Zhu's group at University of Nevada Las Vegas      #\\n#############################################################\\ndata_from_pyxtal\\n\\n_symmetry_space_group_name_H-M 'Pm'\\n_symmetry_Int_Tables_number                    6\\n_symmetry_cell_setting                monoclinic\\n_cell_length_a            4.366794\\n_cell_length_b            3.995555\\n_cell_length_c            9.469097\\n_cell_angle_alpha        90.000000\\n_cell_angle_beta        101.221374\\n_cell_angle_gamma        90.000000\\n_cell_volume            162.056122\\n\\nloop_\\n _symmetry_equiv_pos_site_id\\n _symmetry_equiv_pos_as_xyz\\n1 'x, y, z'\\n2 'x, -y, z'\\n\\nloop_\\n _atom_site_label\\n _atom_site_type_symbol\\n _atom_site_symmetry_multiplicity\\n _atom_site_fract_x\\n _atom_site_fract_y\\n _atom_site_fract_z\\n _atom_site_occupancy\\nLi     Li       1     0.320714    0.000000    0.895992 1\\nLi     Li       2     0.569806    0.336313    0.086352 1\\nLi     Li       1     0.105074    0.500000    0.072895 1\\nLi     Li       1     0.291510    0.500000    0.350309 1\\nLi     Li       1     0.229865    0.500000    0.529516 1\\nLi     Li       1     0.778986    0.000000    0.426603 1\\nLi     Li       1     0.823526    0.500000    0.210356 1\\nLi     Li       2     0.772697    0.224748    0.960240 1\\nLi     Li       2     0.059831    0.753827    0.385803 1\\nO      O        1     0.066265    0.500000    0.759676 1\\nO      O        1     0.286783    0.000000    0.065959 1\\nO      O        1     0.352276    0.000000    0.461158 1\\n#END\\n\\n\",\"cif\",{\"doAssembly\": true, \"duplicateAssemblyAtoms\": true});\n",
       "\tviewer_17263314186405253.setStyle({\"sphere\": {\"colorscheme\": \"Jmol\", \"scale\": 0.25}, \"stick\": {\"colorscheme\": \"Jmol\", \"radius\": 0.1}});\n",
       "\tviewer_17263314186405253.addUnitCell();\n",
       "\tviewer_17263314186405253.replicateUnitCell(1,1,1);\n",
       "\tviewer_17263314186405253.zoomTo();\n",
       "viewer_17263314186405253.render();\n",
       "});\n",
       "</script>"
      ]
     },
     "metadata": {},
     "output_type": "display_data"
    },
    {
     "data": {
      "text/plain": [
       "<py3Dmol.view at 0x7f88929218d0>"
      ]
     },
     "execution_count": 14,
     "metadata": {},
     "output_type": "execute_result"
    }
   ],
   "source": [
    "species, num_species = ['Li', 'O'], [0.8, 0.2]\n",
    "crystal1, crystal2 = generate_random_crystal_structure_from_composition(species, num_species), generate_random_crystal_structure_from_composition(species, num_species)\n",
    "pymatgen_to_pyxtal(crystal1).show()"
   ]
  },
  {
   "cell_type": "code",
   "execution_count": 15,
   "metadata": {},
   "outputs": [
    {
     "data": {
      "application/3dmoljs_load.v0": "<div id=\"3dmolviewer_17263314342819397\"  style=\"position: relative; width: 600px; height: 300px;\">\n        <p id=\"3dmolwarning_17263314342819397\" style=\"background-color:#ffcccc;color:black\">3Dmol.js failed to load for some reason.  Please check your browser console for error messages.<br></p>\n        </div>\n<script>\n\nvar loadScriptAsync = function(uri){\n  return new Promise((resolve, reject) => {\n    //this is to ignore the existence of requirejs amd\n    var savedexports, savedmodule;\n    if (typeof exports !== 'undefined') savedexports = exports;\n    else exports = {}\n    if (typeof module !== 'undefined') savedmodule = module;\n    else module = {}\n\n    var tag = document.createElement('script');\n    tag.src = uri;\n    tag.async = true;\n    tag.onload = () => {\n        exports = savedexports;\n        module = savedmodule;\n        resolve();\n    };\n  var firstScriptTag = document.getElementsByTagName('script')[0];\n  firstScriptTag.parentNode.insertBefore(tag, firstScriptTag);\n});\n};\n\nif(typeof $3Dmolpromise === 'undefined') {\n$3Dmolpromise = null;\n  $3Dmolpromise = loadScriptAsync('https://cdnjs.cloudflare.com/ajax/libs/3Dmol/2.4.0/3Dmol-min.js');\n}\n\nvar viewer_17263314342819397 = null;\nvar warn = document.getElementById(\"3dmolwarning_17263314342819397\");\nif(warn) {\n    warn.parentNode.removeChild(warn);\n}\n$3Dmolpromise.then(function() {\nviewer_17263314342819397 = $3Dmol.createViewer(document.getElementById(\"3dmolviewer_17263314342819397\"),{backgroundColor:\"white\"});\nviewer_17263314342819397.zoomTo();\n\tviewer_17263314342819397.addModel(\"#############################################################\\n#             ______       _    _          _                #\\n#            (_____ \\\\     \\\\ \\\\  / /        | |               #\\n#             _____) )   _ \\\\ \\\\/ / |_  ____| |               #\\n#            |  ____/ | | | )  (|  _)/ _  | |               #\\n#            | |    | |_| |/ /\\\\ \\\\ |_( (_| | |___            #\\n#            |_|     \\\\__  /_/  \\\\_\\\\___)__|_|_____)           #\\n#                   (____/                                  #\\n#---------------------(version    1.0.3)--------------------#\\n#       A Python package for random crystal generation      #\\n#       url: https://github.com/qzhu2017/pyxtal             #\\n#       @Zhu's group at University of Nevada Las Vegas      #\\n#############################################################\\ndata_from_pyxtal\\n\\n_symmetry_space_group_name_H-M 'P4222'\\n_symmetry_Int_Tables_number                   93\\n_symmetry_cell_setting                tetragonal\\n_cell_length_a            6.322019\\n_cell_length_b            6.322019\\n_cell_length_c            2.003665\\n_cell_angle_alpha        90.000000\\n_cell_angle_beta         90.000000\\n_cell_angle_gamma        90.000000\\n_cell_volume             80.082322\\n\\nloop_\\n _symmetry_equiv_pos_site_id\\n _symmetry_equiv_pos_as_xyz\\n1 'x, y, z'\\n2 '-x, -y, z'\\n3 '-y, x, z+1/2'\\n4 'y, -x, z+1/2'\\n5 '-x, y, -z'\\n6 'x, -y, -z'\\n7 'y, x, -z+1/2'\\n8 '-y, -x, -z+1/2'\\n\\nloop_\\n _atom_site_label\\n _atom_site_type_symbol\\n _atom_site_symmetry_multiplicity\\n _atom_site_fract_x\\n _atom_site_fract_y\\n _atom_site_fract_z\\n _atom_site_occupancy\\nLi     Li       4     0.917028    0.917028    0.750000 1\\nLi     Li       4     0.723888    0.500000    0.000000 1\\nO      O        2     0.500000    0.500000    0.000000 1\\n#END\\n\\n\",\"cif\",{\"doAssembly\": true, \"duplicateAssemblyAtoms\": true});\n\tviewer_17263314342819397.setStyle({\"sphere\": {\"colorscheme\": \"Jmol\", \"scale\": 0.25}, \"stick\": {\"colorscheme\": \"Jmol\", \"radius\": 0.1}});\n\tviewer_17263314342819397.addUnitCell();\n\tviewer_17263314342819397.replicateUnitCell(1,1,1);\n\tviewer_17263314342819397.zoomTo();\nviewer_17263314342819397.render();\n});\n</script>",
      "text/html": [
       "<div id=\"3dmolviewer_17263314342819397\"  style=\"position: relative; width: 600px; height: 300px;\">\n",
       "        <p id=\"3dmolwarning_17263314342819397\" style=\"background-color:#ffcccc;color:black\">3Dmol.js failed to load for some reason.  Please check your browser console for error messages.<br></p>\n",
       "        </div>\n",
       "<script>\n",
       "\n",
       "var loadScriptAsync = function(uri){\n",
       "  return new Promise((resolve, reject) => {\n",
       "    //this is to ignore the existence of requirejs amd\n",
       "    var savedexports, savedmodule;\n",
       "    if (typeof exports !== 'undefined') savedexports = exports;\n",
       "    else exports = {}\n",
       "    if (typeof module !== 'undefined') savedmodule = module;\n",
       "    else module = {}\n",
       "\n",
       "    var tag = document.createElement('script');\n",
       "    tag.src = uri;\n",
       "    tag.async = true;\n",
       "    tag.onload = () => {\n",
       "        exports = savedexports;\n",
       "        module = savedmodule;\n",
       "        resolve();\n",
       "    };\n",
       "  var firstScriptTag = document.getElementsByTagName('script')[0];\n",
       "  firstScriptTag.parentNode.insertBefore(tag, firstScriptTag);\n",
       "});\n",
       "};\n",
       "\n",
       "if(typeof $3Dmolpromise === 'undefined') {\n",
       "$3Dmolpromise = null;\n",
       "  $3Dmolpromise = loadScriptAsync('https://cdnjs.cloudflare.com/ajax/libs/3Dmol/2.4.0/3Dmol-min.js');\n",
       "}\n",
       "\n",
       "var viewer_17263314342819397 = null;\n",
       "var warn = document.getElementById(\"3dmolwarning_17263314342819397\");\n",
       "if(warn) {\n",
       "    warn.parentNode.removeChild(warn);\n",
       "}\n",
       "$3Dmolpromise.then(function() {\n",
       "viewer_17263314342819397 = $3Dmol.createViewer(document.getElementById(\"3dmolviewer_17263314342819397\"),{backgroundColor:\"white\"});\n",
       "viewer_17263314342819397.zoomTo();\n",
       "\tviewer_17263314342819397.addModel(\"#############################################################\\n#             ______       _    _          _                #\\n#            (_____ \\\\     \\\\ \\\\  / /        | |               #\\n#             _____) )   _ \\\\ \\\\/ / |_  ____| |               #\\n#            |  ____/ | | | )  (|  _)/ _  | |               #\\n#            | |    | |_| |/ /\\\\ \\\\ |_( (_| | |___            #\\n#            |_|     \\\\__  /_/  \\\\_\\\\___)__|_|_____)           #\\n#                   (____/                                  #\\n#---------------------(version    1.0.3)--------------------#\\n#       A Python package for random crystal generation      #\\n#       url: https://github.com/qzhu2017/pyxtal             #\\n#       @Zhu's group at University of Nevada Las Vegas      #\\n#############################################################\\ndata_from_pyxtal\\n\\n_symmetry_space_group_name_H-M 'P4222'\\n_symmetry_Int_Tables_number                   93\\n_symmetry_cell_setting                tetragonal\\n_cell_length_a            6.322019\\n_cell_length_b            6.322019\\n_cell_length_c            2.003665\\n_cell_angle_alpha        90.000000\\n_cell_angle_beta         90.000000\\n_cell_angle_gamma        90.000000\\n_cell_volume             80.082322\\n\\nloop_\\n _symmetry_equiv_pos_site_id\\n _symmetry_equiv_pos_as_xyz\\n1 'x, y, z'\\n2 '-x, -y, z'\\n3 '-y, x, z+1/2'\\n4 'y, -x, z+1/2'\\n5 '-x, y, -z'\\n6 'x, -y, -z'\\n7 'y, x, -z+1/2'\\n8 '-y, -x, -z+1/2'\\n\\nloop_\\n _atom_site_label\\n _atom_site_type_symbol\\n _atom_site_symmetry_multiplicity\\n _atom_site_fract_x\\n _atom_site_fract_y\\n _atom_site_fract_z\\n _atom_site_occupancy\\nLi     Li       4     0.917028    0.917028    0.750000 1\\nLi     Li       4     0.723888    0.500000    0.000000 1\\nO      O        2     0.500000    0.500000    0.000000 1\\n#END\\n\\n\",\"cif\",{\"doAssembly\": true, \"duplicateAssemblyAtoms\": true});\n",
       "\tviewer_17263314342819397.setStyle({\"sphere\": {\"colorscheme\": \"Jmol\", \"scale\": 0.25}, \"stick\": {\"colorscheme\": \"Jmol\", \"radius\": 0.1}});\n",
       "\tviewer_17263314342819397.addUnitCell();\n",
       "\tviewer_17263314342819397.replicateUnitCell(1,1,1);\n",
       "\tviewer_17263314342819397.zoomTo();\n",
       "viewer_17263314342819397.render();\n",
       "});\n",
       "</script>"
      ]
     },
     "metadata": {},
     "output_type": "display_data"
    },
    {
     "data": {
      "text/plain": [
       "<py3Dmol.view at 0x7f88928ff790>"
      ]
     },
     "execution_count": 15,
     "metadata": {},
     "output_type": "execute_result"
    }
   ],
   "source": [
    "pymatgen_to_pyxtal(crystal2).show()"
   ]
  },
  {
   "cell_type": "code",
   "execution_count": 17,
   "metadata": {},
   "outputs": [
    {
     "data": {
      "application/3dmoljs_load.v0": "<div id=\"3dmolviewer_1726331493298959\"  style=\"position: relative; width: 600px; height: 300px;\">\n        <p id=\"3dmolwarning_1726331493298959\" style=\"background-color:#ffcccc;color:black\">3Dmol.js failed to load for some reason.  Please check your browser console for error messages.<br></p>\n        </div>\n<script>\n\nvar loadScriptAsync = function(uri){\n  return new Promise((resolve, reject) => {\n    //this is to ignore the existence of requirejs amd\n    var savedexports, savedmodule;\n    if (typeof exports !== 'undefined') savedexports = exports;\n    else exports = {}\n    if (typeof module !== 'undefined') savedmodule = module;\n    else module = {}\n\n    var tag = document.createElement('script');\n    tag.src = uri;\n    tag.async = true;\n    tag.onload = () => {\n        exports = savedexports;\n        module = savedmodule;\n        resolve();\n    };\n  var firstScriptTag = document.getElementsByTagName('script')[0];\n  firstScriptTag.parentNode.insertBefore(tag, firstScriptTag);\n});\n};\n\nif(typeof $3Dmolpromise === 'undefined') {\n$3Dmolpromise = null;\n  $3Dmolpromise = loadScriptAsync('https://cdnjs.cloudflare.com/ajax/libs/3Dmol/2.4.0/3Dmol-min.js');\n}\n\nvar viewer_1726331493298959 = null;\nvar warn = document.getElementById(\"3dmolwarning_1726331493298959\");\nif(warn) {\n    warn.parentNode.removeChild(warn);\n}\n$3Dmolpromise.then(function() {\nviewer_1726331493298959 = $3Dmol.createViewer(document.getElementById(\"3dmolviewer_1726331493298959\"),{backgroundColor:\"white\"});\nviewer_1726331493298959.zoomTo();\n\tviewer_1726331493298959.addModel(\"#############################################################\\n#             ______       _    _          _                #\\n#            (_____ \\\\     \\\\ \\\\  / /        | |               #\\n#             _____) )   _ \\\\ \\\\/ / |_  ____| |               #\\n#            |  ____/ | | | )  (|  _)/ _  | |               #\\n#            | |    | |_| |/ /\\\\ \\\\ |_( (_| | |___            #\\n#            |_|     \\\\__  /_/  \\\\_\\\\___)__|_|_____)           #\\n#                   (____/                                  #\\n#---------------------(version    1.0.3)--------------------#\\n#       A Python package for random crystal generation      #\\n#       url: https://github.com/qzhu2017/pyxtal             #\\n#       @Zhu's group at University of Nevada Las Vegas      #\\n#############################################################\\ndata_from_pyxtal\\n\\n_symmetry_space_group_name_H-M 'P1'\\n_symmetry_Int_Tables_number                    1\\n_symmetry_cell_setting                 triclinic\\n_cell_length_a            3.625489\\n_cell_length_b            3.962343\\n_cell_length_c            8.592074\\n_cell_angle_alpha       101.221374\\n_cell_angle_beta         90.000000\\n_cell_angle_gamma        90.000000\\n_cell_volume            121.069222\\n\\nloop_\\n _symmetry_equiv_pos_site_id\\n _symmetry_equiv_pos_as_xyz\\n1 'x, y, z'\\n\\nloop_\\n _atom_site_label\\n _atom_site_type_symbol\\n _atom_site_symmetry_multiplicity\\n _atom_site_fract_x\\n _atom_site_fract_y\\n _atom_site_fract_z\\n _atom_site_occupancy\\nLi     Li       1     0.000000    0.320714    0.895992 1\\nLi     Li       1     0.082972    0.082972    0.250000 1\\nLi     Li       1     0.336313    0.569806    0.086353 1\\nLi     Li       1     0.082972    0.917028    0.750000 1\\nLi     Li       1     0.500000    0.291510    0.350309 1\\nLi     Li       1     0.500000    0.276112    0.000000 1\\nLi     Li       1     0.000000    0.778986    0.426603 1\\nLi     Li       1     0.500000    0.823526    0.210356 1\\nLi     Li       1     0.775252    0.772697    0.960240 1\\nO      O        1     0.500000    0.500000    0.500000 1\\nO      O        1     0.500000    0.066265    0.759676 1\\nO      O        1     0.000000    0.286783    0.065959 1\\nO      O        1     0.000000    0.352276    0.461158 1\\n#END\\n\\n\",\"cif\",{\"doAssembly\": true, \"duplicateAssemblyAtoms\": true});\n\tviewer_1726331493298959.setStyle({\"sphere\": {\"colorscheme\": \"Jmol\", \"scale\": 0.25}, \"stick\": {\"colorscheme\": \"Jmol\", \"radius\": 0.1}});\n\tviewer_1726331493298959.addUnitCell();\n\tviewer_1726331493298959.replicateUnitCell(1,1,1);\n\tviewer_1726331493298959.zoomTo();\nviewer_1726331493298959.render();\n});\n</script>",
      "text/html": [
       "<div id=\"3dmolviewer_1726331493298959\"  style=\"position: relative; width: 600px; height: 300px;\">\n",
       "        <p id=\"3dmolwarning_1726331493298959\" style=\"background-color:#ffcccc;color:black\">3Dmol.js failed to load for some reason.  Please check your browser console for error messages.<br></p>\n",
       "        </div>\n",
       "<script>\n",
       "\n",
       "var loadScriptAsync = function(uri){\n",
       "  return new Promise((resolve, reject) => {\n",
       "    //this is to ignore the existence of requirejs amd\n",
       "    var savedexports, savedmodule;\n",
       "    if (typeof exports !== 'undefined') savedexports = exports;\n",
       "    else exports = {}\n",
       "    if (typeof module !== 'undefined') savedmodule = module;\n",
       "    else module = {}\n",
       "\n",
       "    var tag = document.createElement('script');\n",
       "    tag.src = uri;\n",
       "    tag.async = true;\n",
       "    tag.onload = () => {\n",
       "        exports = savedexports;\n",
       "        module = savedmodule;\n",
       "        resolve();\n",
       "    };\n",
       "  var firstScriptTag = document.getElementsByTagName('script')[0];\n",
       "  firstScriptTag.parentNode.insertBefore(tag, firstScriptTag);\n",
       "});\n",
       "};\n",
       "\n",
       "if(typeof $3Dmolpromise === 'undefined') {\n",
       "$3Dmolpromise = null;\n",
       "  $3Dmolpromise = loadScriptAsync('https://cdnjs.cloudflare.com/ajax/libs/3Dmol/2.4.0/3Dmol-min.js');\n",
       "}\n",
       "\n",
       "var viewer_1726331493298959 = null;\n",
       "var warn = document.getElementById(\"3dmolwarning_1726331493298959\");\n",
       "if(warn) {\n",
       "    warn.parentNode.removeChild(warn);\n",
       "}\n",
       "$3Dmolpromise.then(function() {\n",
       "viewer_1726331493298959 = $3Dmol.createViewer(document.getElementById(\"3dmolviewer_1726331493298959\"),{backgroundColor:\"white\"});\n",
       "viewer_1726331493298959.zoomTo();\n",
       "\tviewer_1726331493298959.addModel(\"#############################################################\\n#             ______       _    _          _                #\\n#            (_____ \\\\     \\\\ \\\\  / /        | |               #\\n#             _____) )   _ \\\\ \\\\/ / |_  ____| |               #\\n#            |  ____/ | | | )  (|  _)/ _  | |               #\\n#            | |    | |_| |/ /\\\\ \\\\ |_( (_| | |___            #\\n#            |_|     \\\\__  /_/  \\\\_\\\\___)__|_|_____)           #\\n#                   (____/                                  #\\n#---------------------(version    1.0.3)--------------------#\\n#       A Python package for random crystal generation      #\\n#       url: https://github.com/qzhu2017/pyxtal             #\\n#       @Zhu's group at University of Nevada Las Vegas      #\\n#############################################################\\ndata_from_pyxtal\\n\\n_symmetry_space_group_name_H-M 'P1'\\n_symmetry_Int_Tables_number                    1\\n_symmetry_cell_setting                 triclinic\\n_cell_length_a            3.625489\\n_cell_length_b            3.962343\\n_cell_length_c            8.592074\\n_cell_angle_alpha       101.221374\\n_cell_angle_beta         90.000000\\n_cell_angle_gamma        90.000000\\n_cell_volume            121.069222\\n\\nloop_\\n _symmetry_equiv_pos_site_id\\n _symmetry_equiv_pos_as_xyz\\n1 'x, y, z'\\n\\nloop_\\n _atom_site_label\\n _atom_site_type_symbol\\n _atom_site_symmetry_multiplicity\\n _atom_site_fract_x\\n _atom_site_fract_y\\n _atom_site_fract_z\\n _atom_site_occupancy\\nLi     Li       1     0.000000    0.320714    0.895992 1\\nLi     Li       1     0.082972    0.082972    0.250000 1\\nLi     Li       1     0.336313    0.569806    0.086353 1\\nLi     Li       1     0.082972    0.917028    0.750000 1\\nLi     Li       1     0.500000    0.291510    0.350309 1\\nLi     Li       1     0.500000    0.276112    0.000000 1\\nLi     Li       1     0.000000    0.778986    0.426603 1\\nLi     Li       1     0.500000    0.823526    0.210356 1\\nLi     Li       1     0.775252    0.772697    0.960240 1\\nO      O        1     0.500000    0.500000    0.500000 1\\nO      O        1     0.500000    0.066265    0.759676 1\\nO      O        1     0.000000    0.286783    0.065959 1\\nO      O        1     0.000000    0.352276    0.461158 1\\n#END\\n\\n\",\"cif\",{\"doAssembly\": true, \"duplicateAssemblyAtoms\": true});\n",
       "\tviewer_1726331493298959.setStyle({\"sphere\": {\"colorscheme\": \"Jmol\", \"scale\": 0.25}, \"stick\": {\"colorscheme\": \"Jmol\", \"radius\": 0.1}});\n",
       "\tviewer_1726331493298959.addUnitCell();\n",
       "\tviewer_1726331493298959.replicateUnitCell(1,1,1);\n",
       "\tviewer_1726331493298959.zoomTo();\n",
       "viewer_1726331493298959.render();\n",
       "});\n",
       "</script>"
      ]
     },
     "metadata": {},
     "output_type": "display_data"
    },
    {
     "data": {
      "text/plain": [
       "<py3Dmol.view at 0x7f8891613210>"
      ]
     },
     "execution_count": 17,
     "metadata": {},
     "output_type": "execute_result"
    }
   ],
   "source": [
    "from src.evolutionary_algorithm.crossover_operator import crossover_operator\n",
    "\n",
    "child_crystal = crossover_operator(crystal1, crystal2)\n",
    "pymatgen_to_pyxtal(child_crystal).show()"
   ]
  },
  {
   "cell_type": "markdown",
   "metadata": {},
   "source": [
    "### 3. Test mutation of crystal structure"
   ]
  },
  {
   "cell_type": "code",
   "execution_count": 4,
   "metadata": {},
   "outputs": [
    {
     "data": {
      "application/3dmoljs_load.v0": "<div id=\"3dmolviewer_17263318514208896\"  style=\"position: relative; width: 600px; height: 300px;\">\n        <p id=\"3dmolwarning_17263318514208896\" style=\"background-color:#ffcccc;color:black\">3Dmol.js failed to load for some reason.  Please check your browser console for error messages.<br></p>\n        </div>\n<script>\n\nvar loadScriptAsync = function(uri){\n  return new Promise((resolve, reject) => {\n    //this is to ignore the existence of requirejs amd\n    var savedexports, savedmodule;\n    if (typeof exports !== 'undefined') savedexports = exports;\n    else exports = {}\n    if (typeof module !== 'undefined') savedmodule = module;\n    else module = {}\n\n    var tag = document.createElement('script');\n    tag.src = uri;\n    tag.async = true;\n    tag.onload = () => {\n        exports = savedexports;\n        module = savedmodule;\n        resolve();\n    };\n  var firstScriptTag = document.getElementsByTagName('script')[0];\n  firstScriptTag.parentNode.insertBefore(tag, firstScriptTag);\n});\n};\n\nif(typeof $3Dmolpromise === 'undefined') {\n$3Dmolpromise = null;\n  $3Dmolpromise = loadScriptAsync('https://cdnjs.cloudflare.com/ajax/libs/3Dmol/2.4.0/3Dmol-min.js');\n}\n\nvar viewer_17263318514208896 = null;\nvar warn = document.getElementById(\"3dmolwarning_17263318514208896\");\nif(warn) {\n    warn.parentNode.removeChild(warn);\n}\n$3Dmolpromise.then(function() {\nviewer_17263318514208896 = $3Dmol.createViewer(document.getElementById(\"3dmolviewer_17263318514208896\"),{backgroundColor:\"white\"});\nviewer_17263318514208896.zoomTo();\n\tviewer_17263318514208896.addModel(\"#############################################################\\n#             ______       _    _          _                #\\n#            (_____ \\\\     \\\\ \\\\  / /        | |               #\\n#             _____) )   _ \\\\ \\\\/ / |_  ____| |               #\\n#            |  ____/ | | | )  (|  _)/ _  | |               #\\n#            | |    | |_| |/ /\\\\ \\\\ |_( (_| | |___            #\\n#            |_|     \\\\__  /_/  \\\\_\\\\___)__|_|_____)           #\\n#                   (____/                                  #\\n#---------------------(version    1.0.3)--------------------#\\n#       A Python package for random crystal generation      #\\n#       url: https://github.com/qzhu2017/pyxtal             #\\n#       @Zhu's group at University of Nevada Las Vegas      #\\n#############################################################\\ndata_from_pyxtal\\n\\n_symmetry_space_group_name_H-M 'P31'\\n_symmetry_Int_Tables_number                  144\\n_symmetry_cell_setting                  trigonal\\n_cell_length_a           14.693530\\n_cell_length_b           14.693530\\n_cell_length_c            1.766902\\n_cell_angle_alpha        90.000000\\n_cell_angle_beta         90.000000\\n_cell_angle_gamma       120.000000\\n_cell_volume            330.366015\\n\\nloop_\\n _symmetry_equiv_pos_site_id\\n _symmetry_equiv_pos_as_xyz\\n1 'x, y, z'\\n2 '-y, x-y, z+1/3'\\n3 '-x+y, -x, z+2/3'\\n\\nloop_\\n _atom_site_label\\n _atom_site_type_symbol\\n _atom_site_symmetry_multiplicity\\n _atom_site_fract_x\\n _atom_site_fract_y\\n _atom_site_fract_z\\n _atom_site_occupancy\\nLi     Li       3     0.448100    0.502337    0.801918 1\\nLi     Li       3     0.883148    0.318578    0.750679 1\\nLi     Li       3     0.640955    0.784328    0.604341 1\\nLi     Li       3     0.940494    0.781319    0.516598 1\\nLi     Li       3     0.542847    0.164690    0.609093 1\\nLi     Li       3     0.893640    0.211581    0.658030 1\\nLi     Li       3     0.573277    0.334617    0.831890 1\\nLi     Li       3     0.299177    0.321039    0.202181 1\\nCu     Cu       3     0.966088    0.088399    0.906222 1\\nO      O        3     0.500731    0.769001    0.550477 1\\n#END\\n\\n\",\"cif\",{\"doAssembly\": true, \"duplicateAssemblyAtoms\": true});\n\tviewer_17263318514208896.setStyle({\"sphere\": {\"colorscheme\": \"Jmol\", \"scale\": 0.25}, \"stick\": {\"colorscheme\": \"Jmol\", \"radius\": 0.1}});\n\tviewer_17263318514208896.addUnitCell();\n\tviewer_17263318514208896.replicateUnitCell(1,1,1);\n\tviewer_17263318514208896.zoomTo();\nviewer_17263318514208896.render();\n});\n</script>",
      "text/html": [
       "<div id=\"3dmolviewer_17263318514208896\"  style=\"position: relative; width: 600px; height: 300px;\">\n",
       "        <p id=\"3dmolwarning_17263318514208896\" style=\"background-color:#ffcccc;color:black\">3Dmol.js failed to load for some reason.  Please check your browser console for error messages.<br></p>\n",
       "        </div>\n",
       "<script>\n",
       "\n",
       "var loadScriptAsync = function(uri){\n",
       "  return new Promise((resolve, reject) => {\n",
       "    //this is to ignore the existence of requirejs amd\n",
       "    var savedexports, savedmodule;\n",
       "    if (typeof exports !== 'undefined') savedexports = exports;\n",
       "    else exports = {}\n",
       "    if (typeof module !== 'undefined') savedmodule = module;\n",
       "    else module = {}\n",
       "\n",
       "    var tag = document.createElement('script');\n",
       "    tag.src = uri;\n",
       "    tag.async = true;\n",
       "    tag.onload = () => {\n",
       "        exports = savedexports;\n",
       "        module = savedmodule;\n",
       "        resolve();\n",
       "    };\n",
       "  var firstScriptTag = document.getElementsByTagName('script')[0];\n",
       "  firstScriptTag.parentNode.insertBefore(tag, firstScriptTag);\n",
       "});\n",
       "};\n",
       "\n",
       "if(typeof $3Dmolpromise === 'undefined') {\n",
       "$3Dmolpromise = null;\n",
       "  $3Dmolpromise = loadScriptAsync('https://cdnjs.cloudflare.com/ajax/libs/3Dmol/2.4.0/3Dmol-min.js');\n",
       "}\n",
       "\n",
       "var viewer_17263318514208896 = null;\n",
       "var warn = document.getElementById(\"3dmolwarning_17263318514208896\");\n",
       "if(warn) {\n",
       "    warn.parentNode.removeChild(warn);\n",
       "}\n",
       "$3Dmolpromise.then(function() {\n",
       "viewer_17263318514208896 = $3Dmol.createViewer(document.getElementById(\"3dmolviewer_17263318514208896\"),{backgroundColor:\"white\"});\n",
       "viewer_17263318514208896.zoomTo();\n",
       "\tviewer_17263318514208896.addModel(\"#############################################################\\n#             ______       _    _          _                #\\n#            (_____ \\\\     \\\\ \\\\  / /        | |               #\\n#             _____) )   _ \\\\ \\\\/ / |_  ____| |               #\\n#            |  ____/ | | | )  (|  _)/ _  | |               #\\n#            | |    | |_| |/ /\\\\ \\\\ |_( (_| | |___            #\\n#            |_|     \\\\__  /_/  \\\\_\\\\___)__|_|_____)           #\\n#                   (____/                                  #\\n#---------------------(version    1.0.3)--------------------#\\n#       A Python package for random crystal generation      #\\n#       url: https://github.com/qzhu2017/pyxtal             #\\n#       @Zhu's group at University of Nevada Las Vegas      #\\n#############################################################\\ndata_from_pyxtal\\n\\n_symmetry_space_group_name_H-M 'P31'\\n_symmetry_Int_Tables_number                  144\\n_symmetry_cell_setting                  trigonal\\n_cell_length_a           14.693530\\n_cell_length_b           14.693530\\n_cell_length_c            1.766902\\n_cell_angle_alpha        90.000000\\n_cell_angle_beta         90.000000\\n_cell_angle_gamma       120.000000\\n_cell_volume            330.366015\\n\\nloop_\\n _symmetry_equiv_pos_site_id\\n _symmetry_equiv_pos_as_xyz\\n1 'x, y, z'\\n2 '-y, x-y, z+1/3'\\n3 '-x+y, -x, z+2/3'\\n\\nloop_\\n _atom_site_label\\n _atom_site_type_symbol\\n _atom_site_symmetry_multiplicity\\n _atom_site_fract_x\\n _atom_site_fract_y\\n _atom_site_fract_z\\n _atom_site_occupancy\\nLi     Li       3     0.448100    0.502337    0.801918 1\\nLi     Li       3     0.883148    0.318578    0.750679 1\\nLi     Li       3     0.640955    0.784328    0.604341 1\\nLi     Li       3     0.940494    0.781319    0.516598 1\\nLi     Li       3     0.542847    0.164690    0.609093 1\\nLi     Li       3     0.893640    0.211581    0.658030 1\\nLi     Li       3     0.573277    0.334617    0.831890 1\\nLi     Li       3     0.299177    0.321039    0.202181 1\\nCu     Cu       3     0.966088    0.088399    0.906222 1\\nO      O        3     0.500731    0.769001    0.550477 1\\n#END\\n\\n\",\"cif\",{\"doAssembly\": true, \"duplicateAssemblyAtoms\": true});\n",
       "\tviewer_17263318514208896.setStyle({\"sphere\": {\"colorscheme\": \"Jmol\", \"scale\": 0.25}, \"stick\": {\"colorscheme\": \"Jmol\", \"radius\": 0.1}});\n",
       "\tviewer_17263318514208896.addUnitCell();\n",
       "\tviewer_17263318514208896.replicateUnitCell(1,1,1);\n",
       "\tviewer_17263318514208896.zoomTo();\n",
       "viewer_17263318514208896.render();\n",
       "});\n",
       "</script>"
      ]
     },
     "metadata": {},
     "output_type": "display_data"
    },
    {
     "data": {
      "text/plain": [
       "<py3Dmol.view at 0x7fe4b450bed0>"
      ]
     },
     "execution_count": 4,
     "metadata": {},
     "output_type": "execute_result"
    }
   ],
   "source": [
    "from src.evolutionary_algorithm.mutate_operator import mutate_operator\n",
    "my_crystal = generate_random_crystal_structure_from_composition(['Li', 'O', 'Cu'], [0.8, 0.1, 0.1])\n",
    "pymatgen_to_pyxtal(my_crystal).show()"
   ]
  },
  {
   "cell_type": "code",
   "execution_count": 6,
   "metadata": {},
   "outputs": [
    {
     "data": {
      "application/3dmoljs_load.v0": "<div id=\"3dmolviewer_17263319679669518\"  style=\"position: relative; width: 600px; height: 300px;\">\n        <p id=\"3dmolwarning_17263319679669518\" style=\"background-color:#ffcccc;color:black\">3Dmol.js failed to load for some reason.  Please check your browser console for error messages.<br></p>\n        </div>\n<script>\n\nvar loadScriptAsync = function(uri){\n  return new Promise((resolve, reject) => {\n    //this is to ignore the existence of requirejs amd\n    var savedexports, savedmodule;\n    if (typeof exports !== 'undefined') savedexports = exports;\n    else exports = {}\n    if (typeof module !== 'undefined') savedmodule = module;\n    else module = {}\n\n    var tag = document.createElement('script');\n    tag.src = uri;\n    tag.async = true;\n    tag.onload = () => {\n        exports = savedexports;\n        module = savedmodule;\n        resolve();\n    };\n  var firstScriptTag = document.getElementsByTagName('script')[0];\n  firstScriptTag.parentNode.insertBefore(tag, firstScriptTag);\n});\n};\n\nif(typeof $3Dmolpromise === 'undefined') {\n$3Dmolpromise = null;\n  $3Dmolpromise = loadScriptAsync('https://cdnjs.cloudflare.com/ajax/libs/3Dmol/2.4.0/3Dmol-min.js');\n}\n\nvar viewer_17263319679669518 = null;\nvar warn = document.getElementById(\"3dmolwarning_17263319679669518\");\nif(warn) {\n    warn.parentNode.removeChild(warn);\n}\n$3Dmolpromise.then(function() {\nviewer_17263319679669518 = $3Dmol.createViewer(document.getElementById(\"3dmolviewer_17263319679669518\"),{backgroundColor:\"white\"});\nviewer_17263319679669518.zoomTo();\n\tviewer_17263319679669518.addModel(\"#############################################################\\n#             ______       _    _          _                #\\n#            (_____ \\\\     \\\\ \\\\  / /        | |               #\\n#             _____) )   _ \\\\ \\\\/ / |_  ____| |               #\\n#            |  ____/ | | | )  (|  _)/ _  | |               #\\n#            | |    | |_| |/ /\\\\ \\\\ |_( (_| | |___            #\\n#            |_|     \\\\__  /_/  \\\\_\\\\___)__|_|_____)           #\\n#                   (____/                                  #\\n#---------------------(version    1.0.3)--------------------#\\n#       A Python package for random crystal generation      #\\n#       url: https://github.com/qzhu2017/pyxtal             #\\n#       @Zhu's group at University of Nevada Las Vegas      #\\n#############################################################\\ndata_from_pyxtal\\n\\n_symmetry_space_group_name_H-M 'P1'\\n_symmetry_Int_Tables_number                    1\\n_symmetry_cell_setting                 triclinic\\n_cell_length_a            3.454924\\n_cell_length_b            9.540692\\n_cell_length_c           20.211261\\n_cell_angle_alpha        92.152760\\n_cell_angle_beta         91.537853\\n_cell_angle_gamma        96.574968\\n_cell_volume            661.036677\\n\\nloop_\\n _symmetry_equiv_pos_site_id\\n _symmetry_equiv_pos_as_xyz\\n1 'x, y, z'\\n\\nloop_\\n _atom_site_label\\n _atom_site_type_symbol\\n _atom_site_symmetry_multiplicity\\n _atom_site_fract_x\\n _atom_site_fract_y\\n _atom_site_fract_z\\n _atom_site_occupancy\\nLi     Li       1     0.205130    0.448100    0.054237 1\\nLi     Li       1     0.232759    0.054237    0.497663 1\\nLi     Li       1     0.967865    0.497663    0.448100 1\\nLi     Li       1     0.472709    0.883148    0.435431 1\\nLi     Li       1     0.638765    0.435431    0.681422 1\\nLi     Li       1     0.140564    0.681422    0.883148 1\\nLi     Li       1     0.239236    0.640955    0.143373 1\\nLi     Li       1     0.634889    0.143373    0.215672 1\\nLi     Li       1     0.938899    0.215672    0.640955 1\\nLi     Li       1     0.043435    0.840826    0.218681 1\\nLi     Li       1     0.764816    0.218681    0.940494 1\\nLi     Li       1     0.188856    0.542847    0.621843 1\\nLi     Li       1     0.890907    0.621843    0.835310 1\\nLi     Li       1     0.747516    0.835310    0.542847 1\\nLi     Li       1     0.080053    0.893640    0.317941 1\\nLi     Li       1     0.279661    0.317941    0.788419 1\\nLi     Li       1     0.614377    0.788419    0.893640 1\\nLi     Li       1     0.982295    0.573277    0.761340 1\\nLi     Li       1     0.301405    0.761340    0.665383 1\\nLi     Li       1     0.211970    0.665383    0.573277 1\\nLi     Li       1     0.763654    0.299177    0.021862 1\\nLi     Li       1     0.015040    0.021862    0.678961 1\\nLi     Li       1     0.827849    0.678961    0.299177 1\\nLi     Li       1     0.251492    0.268270    0.230999 1\\nCu     Cu       1     0.103596    0.966088    0.122311 1\\nCu     Cu       1     0.919245    0.122311    0.911601 1\\nCu     Cu       1     0.695824    0.911601    0.966088 1\\nO      O        1     0.741543    0.940494    0.840826 1\\nO      O        1     0.858941    0.500731    0.268270 1\\nO      O        1     0.540999    0.230999    0.500731 1\\n#END\\n\\n\",\"cif\",{\"doAssembly\": true, \"duplicateAssemblyAtoms\": true});\n\tviewer_17263319679669518.setStyle({\"sphere\": {\"colorscheme\": \"Jmol\", \"scale\": 0.25}, \"stick\": {\"colorscheme\": \"Jmol\", \"radius\": 0.1}});\n\tviewer_17263319679669518.addUnitCell();\n\tviewer_17263319679669518.replicateUnitCell(1,1,1);\n\tviewer_17263319679669518.zoomTo();\nviewer_17263319679669518.render();\n});\n</script>",
      "text/html": [
       "<div id=\"3dmolviewer_17263319679669518\"  style=\"position: relative; width: 600px; height: 300px;\">\n",
       "        <p id=\"3dmolwarning_17263319679669518\" style=\"background-color:#ffcccc;color:black\">3Dmol.js failed to load for some reason.  Please check your browser console for error messages.<br></p>\n",
       "        </div>\n",
       "<script>\n",
       "\n",
       "var loadScriptAsync = function(uri){\n",
       "  return new Promise((resolve, reject) => {\n",
       "    //this is to ignore the existence of requirejs amd\n",
       "    var savedexports, savedmodule;\n",
       "    if (typeof exports !== 'undefined') savedexports = exports;\n",
       "    else exports = {}\n",
       "    if (typeof module !== 'undefined') savedmodule = module;\n",
       "    else module = {}\n",
       "\n",
       "    var tag = document.createElement('script');\n",
       "    tag.src = uri;\n",
       "    tag.async = true;\n",
       "    tag.onload = () => {\n",
       "        exports = savedexports;\n",
       "        module = savedmodule;\n",
       "        resolve();\n",
       "    };\n",
       "  var firstScriptTag = document.getElementsByTagName('script')[0];\n",
       "  firstScriptTag.parentNode.insertBefore(tag, firstScriptTag);\n",
       "});\n",
       "};\n",
       "\n",
       "if(typeof $3Dmolpromise === 'undefined') {\n",
       "$3Dmolpromise = null;\n",
       "  $3Dmolpromise = loadScriptAsync('https://cdnjs.cloudflare.com/ajax/libs/3Dmol/2.4.0/3Dmol-min.js');\n",
       "}\n",
       "\n",
       "var viewer_17263319679669518 = null;\n",
       "var warn = document.getElementById(\"3dmolwarning_17263319679669518\");\n",
       "if(warn) {\n",
       "    warn.parentNode.removeChild(warn);\n",
       "}\n",
       "$3Dmolpromise.then(function() {\n",
       "viewer_17263319679669518 = $3Dmol.createViewer(document.getElementById(\"3dmolviewer_17263319679669518\"),{backgroundColor:\"white\"});\n",
       "viewer_17263319679669518.zoomTo();\n",
       "\tviewer_17263319679669518.addModel(\"#############################################################\\n#             ______       _    _          _                #\\n#            (_____ \\\\     \\\\ \\\\  / /        | |               #\\n#             _____) )   _ \\\\ \\\\/ / |_  ____| |               #\\n#            |  ____/ | | | )  (|  _)/ _  | |               #\\n#            | |    | |_| |/ /\\\\ \\\\ |_( (_| | |___            #\\n#            |_|     \\\\__  /_/  \\\\_\\\\___)__|_|_____)           #\\n#                   (____/                                  #\\n#---------------------(version    1.0.3)--------------------#\\n#       A Python package for random crystal generation      #\\n#       url: https://github.com/qzhu2017/pyxtal             #\\n#       @Zhu's group at University of Nevada Las Vegas      #\\n#############################################################\\ndata_from_pyxtal\\n\\n_symmetry_space_group_name_H-M 'P1'\\n_symmetry_Int_Tables_number                    1\\n_symmetry_cell_setting                 triclinic\\n_cell_length_a            3.454924\\n_cell_length_b            9.540692\\n_cell_length_c           20.211261\\n_cell_angle_alpha        92.152760\\n_cell_angle_beta         91.537853\\n_cell_angle_gamma        96.574968\\n_cell_volume            661.036677\\n\\nloop_\\n _symmetry_equiv_pos_site_id\\n _symmetry_equiv_pos_as_xyz\\n1 'x, y, z'\\n\\nloop_\\n _atom_site_label\\n _atom_site_type_symbol\\n _atom_site_symmetry_multiplicity\\n _atom_site_fract_x\\n _atom_site_fract_y\\n _atom_site_fract_z\\n _atom_site_occupancy\\nLi     Li       1     0.205130    0.448100    0.054237 1\\nLi     Li       1     0.232759    0.054237    0.497663 1\\nLi     Li       1     0.967865    0.497663    0.448100 1\\nLi     Li       1     0.472709    0.883148    0.435431 1\\nLi     Li       1     0.638765    0.435431    0.681422 1\\nLi     Li       1     0.140564    0.681422    0.883148 1\\nLi     Li       1     0.239236    0.640955    0.143373 1\\nLi     Li       1     0.634889    0.143373    0.215672 1\\nLi     Li       1     0.938899    0.215672    0.640955 1\\nLi     Li       1     0.043435    0.840826    0.218681 1\\nLi     Li       1     0.764816    0.218681    0.940494 1\\nLi     Li       1     0.188856    0.542847    0.621843 1\\nLi     Li       1     0.890907    0.621843    0.835310 1\\nLi     Li       1     0.747516    0.835310    0.542847 1\\nLi     Li       1     0.080053    0.893640    0.317941 1\\nLi     Li       1     0.279661    0.317941    0.788419 1\\nLi     Li       1     0.614377    0.788419    0.893640 1\\nLi     Li       1     0.982295    0.573277    0.761340 1\\nLi     Li       1     0.301405    0.761340    0.665383 1\\nLi     Li       1     0.211970    0.665383    0.573277 1\\nLi     Li       1     0.763654    0.299177    0.021862 1\\nLi     Li       1     0.015040    0.021862    0.678961 1\\nLi     Li       1     0.827849    0.678961    0.299177 1\\nLi     Li       1     0.251492    0.268270    0.230999 1\\nCu     Cu       1     0.103596    0.966088    0.122311 1\\nCu     Cu       1     0.919245    0.122311    0.911601 1\\nCu     Cu       1     0.695824    0.911601    0.966088 1\\nO      O        1     0.741543    0.940494    0.840826 1\\nO      O        1     0.858941    0.500731    0.268270 1\\nO      O        1     0.540999    0.230999    0.500731 1\\n#END\\n\\n\",\"cif\",{\"doAssembly\": true, \"duplicateAssemblyAtoms\": true});\n",
       "\tviewer_17263319679669518.setStyle({\"sphere\": {\"colorscheme\": \"Jmol\", \"scale\": 0.25}, \"stick\": {\"colorscheme\": \"Jmol\", \"radius\": 0.1}});\n",
       "\tviewer_17263319679669518.addUnitCell();\n",
       "\tviewer_17263319679669518.replicateUnitCell(1,1,1);\n",
       "\tviewer_17263319679669518.zoomTo();\n",
       "viewer_17263319679669518.render();\n",
       "});\n",
       "</script>"
      ]
     },
     "metadata": {},
     "output_type": "display_data"
    },
    {
     "data": {
      "text/plain": [
       "<py3Dmol.view at 0x7fe2969d5110>"
      ]
     },
     "execution_count": 6,
     "metadata": {},
     "output_type": "execute_result"
    }
   ],
   "source": [
    "my_crystal = mutate_operator(my_crystal, rescaling_volume=my_crystal.volume)\n",
    "pymatgen_to_pyxtal(my_crystal).show()"
   ]
  }
 ],
 "metadata": {
  "kernelspec": {
   "display_name": "mat",
   "language": "python",
   "name": "python3"
  },
  "language_info": {
   "codemirror_mode": {
    "name": "ipython",
    "version": 3
   },
   "file_extension": ".py",
   "mimetype": "text/x-python",
   "name": "python",
   "nbconvert_exporter": "python",
   "pygments_lexer": "ipython3",
   "version": "3.11.10"
  }
 },
 "nbformat": 4,
 "nbformat_minor": 2
}
