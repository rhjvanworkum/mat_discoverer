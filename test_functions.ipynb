{
 "cells": [
  {
   "cell_type": "markdown",
   "metadata": {},
   "source": [
    "# This notebook can be used to interact a bit with the functions"
   ]
  },
  {
   "cell_type": "code",
   "execution_count": 1,
   "metadata": {},
   "outputs": [],
   "source": [
    "from src.generate_random_crystals import generate_random_crystal_structure_from_composition\n",
    "from pyxtal import pyxtal\n",
    "\n",
    "# very annoying, but it seems this is the best way to visualize a pymatgen structure\n",
    "def pymatgen_to_pyxtal(crystal):\n",
    "    crystal.to(filename=\"structure.cif\")\n",
    "    pyxtal_crystal = pyxtal()\n",
    "    pyxtal_crystal.from_seed(\"structure.cif\")\n",
    "    return pyxtal_crystal"
   ]
  },
  {
   "cell_type": "markdown",
   "metadata": {},
   "source": [
    "### 1. Test randomly generating crystal structures"
   ]
  },
  {
   "cell_type": "code",
   "execution_count": 2,
   "metadata": {},
   "outputs": [
    {
     "data": {
      "application/3dmoljs_load.v0": "<div id=\"3dmolviewer_17264239567780235\"  style=\"position: relative; width: 600px; height: 300px;\">\n        <p id=\"3dmolwarning_17264239567780235\" style=\"background-color:#ffcccc;color:black\">3Dmol.js failed to load for some reason.  Please check your browser console for error messages.<br></p>\n        </div>\n<script>\n\nvar loadScriptAsync = function(uri){\n  return new Promise((resolve, reject) => {\n    //this is to ignore the existence of requirejs amd\n    var savedexports, savedmodule;\n    if (typeof exports !== 'undefined') savedexports = exports;\n    else exports = {}\n    if (typeof module !== 'undefined') savedmodule = module;\n    else module = {}\n\n    var tag = document.createElement('script');\n    tag.src = uri;\n    tag.async = true;\n    tag.onload = () => {\n        exports = savedexports;\n        module = savedmodule;\n        resolve();\n    };\n  var firstScriptTag = document.getElementsByTagName('script')[0];\n  firstScriptTag.parentNode.insertBefore(tag, firstScriptTag);\n});\n};\n\nif(typeof $3Dmolpromise === 'undefined') {\n$3Dmolpromise = null;\n  $3Dmolpromise = loadScriptAsync('https://cdnjs.cloudflare.com/ajax/libs/3Dmol/2.4.0/3Dmol-min.js');\n}\n\nvar viewer_17264239567780235 = null;\nvar warn = document.getElementById(\"3dmolwarning_17264239567780235\");\nif(warn) {\n    warn.parentNode.removeChild(warn);\n}\n$3Dmolpromise.then(function() {\nviewer_17264239567780235 = $3Dmol.createViewer(document.getElementById(\"3dmolviewer_17264239567780235\"),{backgroundColor:\"white\"});\nviewer_17264239567780235.zoomTo();\n\tviewer_17264239567780235.addModel(\"#############################################################\\n#             ______       _    _          _                #\\n#            (_____ \\\\     \\\\ \\\\  / /        | |               #\\n#             _____) )   _ \\\\ \\\\/ / |_  ____| |               #\\n#            |  ____/ | | | )  (|  _)/ _  | |               #\\n#            | |    | |_| |/ /\\\\ \\\\ |_( (_| | |___            #\\n#            |_|     \\\\__  /_/  \\\\_\\\\___)__|_|_____)           #\\n#                   (____/                                  #\\n#---------------------(version    1.0.3)--------------------#\\n#       A Python package for random crystal generation      #\\n#       url: https://github.com/qzhu2017/pyxtal             #\\n#       @Zhu's group at University of Nevada Las Vegas      #\\n#############################################################\\ndata_from_pyxtal\\n\\n_symmetry_space_group_name_H-M 'P4/m'\\n_symmetry_Int_Tables_number                   83\\n_symmetry_cell_setting                tetragonal\\n_cell_length_a            5.532007\\n_cell_length_b            5.532007\\n_cell_length_c            5.391785\\n_cell_angle_alpha        90.000000\\n_cell_angle_beta         90.000000\\n_cell_angle_gamma        90.000000\\n_cell_volume            165.005332\\n\\nloop_\\n _symmetry_equiv_pos_site_id\\n _symmetry_equiv_pos_as_xyz\\n1 'x, y, z'\\n2 '-x, -y, z'\\n3 '-y, x, z'\\n4 'y, -x, z'\\n5 '-x, -y, -z'\\n6 'x, y, -z'\\n7 'y, -x, -z'\\n8 '-y, x, -z'\\n\\nloop_\\n _atom_site_label\\n _atom_site_type_symbol\\n _atom_site_symmetry_multiplicity\\n _atom_site_fract_x\\n _atom_site_fract_y\\n _atom_site_fract_z\\n _atom_site_occupancy\\nLi     Li       8     0.051783    0.362570    0.740198 1\\nCu     Cu       1     0.500000    0.500000    0.000000 1\\nO      O        1     0.000000    0.000000    0.000000 1\\n#END\\n\\n\",\"cif\",{\"doAssembly\": true, \"duplicateAssemblyAtoms\": true});\n\tviewer_17264239567780235.setStyle({\"sphere\": {\"colorscheme\": \"Jmol\", \"scale\": 0.25}, \"stick\": {\"colorscheme\": \"Jmol\", \"radius\": 0.1}});\n\tviewer_17264239567780235.addUnitCell();\n\tviewer_17264239567780235.replicateUnitCell(1,1,1);\n\tviewer_17264239567780235.zoomTo();\nviewer_17264239567780235.render();\n});\n</script>",
      "text/html": [
       "<div id=\"3dmolviewer_17264239567780235\"  style=\"position: relative; width: 600px; height: 300px;\">\n",
       "        <p id=\"3dmolwarning_17264239567780235\" style=\"background-color:#ffcccc;color:black\">3Dmol.js failed to load for some reason.  Please check your browser console for error messages.<br></p>\n",
       "        </div>\n",
       "<script>\n",
       "\n",
       "var loadScriptAsync = function(uri){\n",
       "  return new Promise((resolve, reject) => {\n",
       "    //this is to ignore the existence of requirejs amd\n",
       "    var savedexports, savedmodule;\n",
       "    if (typeof exports !== 'undefined') savedexports = exports;\n",
       "    else exports = {}\n",
       "    if (typeof module !== 'undefined') savedmodule = module;\n",
       "    else module = {}\n",
       "\n",
       "    var tag = document.createElement('script');\n",
       "    tag.src = uri;\n",
       "    tag.async = true;\n",
       "    tag.onload = () => {\n",
       "        exports = savedexports;\n",
       "        module = savedmodule;\n",
       "        resolve();\n",
       "    };\n",
       "  var firstScriptTag = document.getElementsByTagName('script')[0];\n",
       "  firstScriptTag.parentNode.insertBefore(tag, firstScriptTag);\n",
       "});\n",
       "};\n",
       "\n",
       "if(typeof $3Dmolpromise === 'undefined') {\n",
       "$3Dmolpromise = null;\n",
       "  $3Dmolpromise = loadScriptAsync('https://cdnjs.cloudflare.com/ajax/libs/3Dmol/2.4.0/3Dmol-min.js');\n",
       "}\n",
       "\n",
       "var viewer_17264239567780235 = null;\n",
       "var warn = document.getElementById(\"3dmolwarning_17264239567780235\");\n",
       "if(warn) {\n",
       "    warn.parentNode.removeChild(warn);\n",
       "}\n",
       "$3Dmolpromise.then(function() {\n",
       "viewer_17264239567780235 = $3Dmol.createViewer(document.getElementById(\"3dmolviewer_17264239567780235\"),{backgroundColor:\"white\"});\n",
       "viewer_17264239567780235.zoomTo();\n",
       "\tviewer_17264239567780235.addModel(\"#############################################################\\n#             ______       _    _          _                #\\n#            (_____ \\\\     \\\\ \\\\  / /        | |               #\\n#             _____) )   _ \\\\ \\\\/ / |_  ____| |               #\\n#            |  ____/ | | | )  (|  _)/ _  | |               #\\n#            | |    | |_| |/ /\\\\ \\\\ |_( (_| | |___            #\\n#            |_|     \\\\__  /_/  \\\\_\\\\___)__|_|_____)           #\\n#                   (____/                                  #\\n#---------------------(version    1.0.3)--------------------#\\n#       A Python package for random crystal generation      #\\n#       url: https://github.com/qzhu2017/pyxtal             #\\n#       @Zhu's group at University of Nevada Las Vegas      #\\n#############################################################\\ndata_from_pyxtal\\n\\n_symmetry_space_group_name_H-M 'P4/m'\\n_symmetry_Int_Tables_number                   83\\n_symmetry_cell_setting                tetragonal\\n_cell_length_a            5.532007\\n_cell_length_b            5.532007\\n_cell_length_c            5.391785\\n_cell_angle_alpha        90.000000\\n_cell_angle_beta         90.000000\\n_cell_angle_gamma        90.000000\\n_cell_volume            165.005332\\n\\nloop_\\n _symmetry_equiv_pos_site_id\\n _symmetry_equiv_pos_as_xyz\\n1 'x, y, z'\\n2 '-x, -y, z'\\n3 '-y, x, z'\\n4 'y, -x, z'\\n5 '-x, -y, -z'\\n6 'x, y, -z'\\n7 'y, -x, -z'\\n8 '-y, x, -z'\\n\\nloop_\\n _atom_site_label\\n _atom_site_type_symbol\\n _atom_site_symmetry_multiplicity\\n _atom_site_fract_x\\n _atom_site_fract_y\\n _atom_site_fract_z\\n _atom_site_occupancy\\nLi     Li       8     0.051783    0.362570    0.740198 1\\nCu     Cu       1     0.500000    0.500000    0.000000 1\\nO      O        1     0.000000    0.000000    0.000000 1\\n#END\\n\\n\",\"cif\",{\"doAssembly\": true, \"duplicateAssemblyAtoms\": true});\n",
       "\tviewer_17264239567780235.setStyle({\"sphere\": {\"colorscheme\": \"Jmol\", \"scale\": 0.25}, \"stick\": {\"colorscheme\": \"Jmol\", \"radius\": 0.1}});\n",
       "\tviewer_17264239567780235.addUnitCell();\n",
       "\tviewer_17264239567780235.replicateUnitCell(1,1,1);\n",
       "\tviewer_17264239567780235.zoomTo();\n",
       "viewer_17264239567780235.render();\n",
       "});\n",
       "</script>"
      ]
     },
     "metadata": {},
     "output_type": "display_data"
    },
    {
     "data": {
      "text/plain": [
       "<py3Dmol.view at 0x7f2b76e52890>"
      ]
     },
     "execution_count": 2,
     "metadata": {},
     "output_type": "execute_result"
    }
   ],
   "source": [
    "my_crystal = generate_random_crystal_structure_from_composition(['Li', 'O', 'Cu'], [0.8, 0.1, 0.1])\n",
    "pyxtal_crystal = pymatgen_to_pyxtal(my_crystal)\n",
    "pyxtal_crystal.show()"
   ]
  },
  {
   "cell_type": "markdown",
   "metadata": {},
   "source": [
    "### 2. Test crossover of two crystal"
   ]
  },
  {
   "cell_type": "code",
   "execution_count": 6,
   "metadata": {},
   "outputs": [
    {
     "data": {
      "application/3dmoljs_load.v0": "<div id=\"3dmolviewer_17264240070860069\"  style=\"position: relative; width: 600px; height: 300px;\">\n        <p id=\"3dmolwarning_17264240070860069\" style=\"background-color:#ffcccc;color:black\">3Dmol.js failed to load for some reason.  Please check your browser console for error messages.<br></p>\n        </div>\n<script>\n\nvar loadScriptAsync = function(uri){\n  return new Promise((resolve, reject) => {\n    //this is to ignore the existence of requirejs amd\n    var savedexports, savedmodule;\n    if (typeof exports !== 'undefined') savedexports = exports;\n    else exports = {}\n    if (typeof module !== 'undefined') savedmodule = module;\n    else module = {}\n\n    var tag = document.createElement('script');\n    tag.src = uri;\n    tag.async = true;\n    tag.onload = () => {\n        exports = savedexports;\n        module = savedmodule;\n        resolve();\n    };\n  var firstScriptTag = document.getElementsByTagName('script')[0];\n  firstScriptTag.parentNode.insertBefore(tag, firstScriptTag);\n});\n};\n\nif(typeof $3Dmolpromise === 'undefined') {\n$3Dmolpromise = null;\n  $3Dmolpromise = loadScriptAsync('https://cdnjs.cloudflare.com/ajax/libs/3Dmol/2.4.0/3Dmol-min.js');\n}\n\nvar viewer_17264240070860069 = null;\nvar warn = document.getElementById(\"3dmolwarning_17264240070860069\");\nif(warn) {\n    warn.parentNode.removeChild(warn);\n}\n$3Dmolpromise.then(function() {\nviewer_17264240070860069 = $3Dmol.createViewer(document.getElementById(\"3dmolviewer_17264240070860069\"),{backgroundColor:\"white\"});\nviewer_17264240070860069.zoomTo();\n\tviewer_17264240070860069.addModel(\"#############################################################\\n#             ______       _    _          _                #\\n#            (_____ \\\\     \\\\ \\\\  / /        | |               #\\n#             _____) )   _ \\\\ \\\\/ / |_  ____| |               #\\n#            |  ____/ | | | )  (|  _)/ _  | |               #\\n#            | |    | |_| |/ /\\\\ \\\\ |_( (_| | |___            #\\n#            |_|     \\\\__  /_/  \\\\_\\\\___)__|_|_____)           #\\n#                   (____/                                  #\\n#---------------------(version    1.0.3)--------------------#\\n#       A Python package for random crystal generation      #\\n#       url: https://github.com/qzhu2017/pyxtal             #\\n#       @Zhu's group at University of Nevada Las Vegas      #\\n#############################################################\\ndata_from_pyxtal\\n\\n_symmetry_space_group_name_H-M 'P-43m'\\n_symmetry_Int_Tables_number                  215\\n_symmetry_cell_setting                     cubic\\n_cell_length_a            4.948132\\n_cell_length_b            4.948132\\n_cell_length_c            4.948132\\n_cell_angle_alpha        90.000000\\n_cell_angle_beta         90.000000\\n_cell_angle_gamma        90.000000\\n_cell_volume            121.150114\\n\\nloop_\\n _symmetry_equiv_pos_site_id\\n _symmetry_equiv_pos_as_xyz\\n1 'x, y, z'\\n2 '-x, -y, z'\\n3 '-x, y, -z'\\n4 'x, -y, -z'\\n5 'z, x, y'\\n6 'z, -x, -y'\\n7 '-z, -x, y'\\n8 '-z, x, -y'\\n9 'y, z, x'\\n10 '-y, z, -x'\\n11 'y, -z, -x'\\n12 '-y, -z, x'\\n13 'y, x, z'\\n14 '-y, -x, z'\\n15 'y, -x, -z'\\n16 '-y, x, -z'\\n17 'x, z, y'\\n18 '-x, z, -y'\\n19 '-x, -z, y'\\n20 'x, -z, -y'\\n21 'z, y, x'\\n22 'z, -y, -x'\\n23 '-z, y, -x'\\n24 '-z, -y, x'\\n\\nloop_\\n _atom_site_label\\n _atom_site_type_symbol\\n _atom_site_symmetry_multiplicity\\n _atom_site_fract_x\\n _atom_site_fract_y\\n _atom_site_fract_z\\n _atom_site_occupancy\\nLi     Li       4     0.155358    0.155358    0.155358 1\\nLi     Li       1     0.000000    0.000000    0.000000 1\\nLi     Li       3     0.000000    0.500000    0.500000 1\\nLi     Li       4     0.378357    0.378357    0.378357 1\\nO      O        3     0.500000    0.000000    0.000000 1\\n#END\\n\\n\",\"cif\",{\"doAssembly\": true, \"duplicateAssemblyAtoms\": true});\n\tviewer_17264240070860069.setStyle({\"sphere\": {\"colorscheme\": \"Jmol\", \"scale\": 0.25}, \"stick\": {\"colorscheme\": \"Jmol\", \"radius\": 0.1}});\n\tviewer_17264240070860069.addUnitCell();\n\tviewer_17264240070860069.replicateUnitCell(1,1,1);\n\tviewer_17264240070860069.zoomTo();\nviewer_17264240070860069.render();\n});\n</script>",
      "text/html": [
       "<div id=\"3dmolviewer_17264240070860069\"  style=\"position: relative; width: 600px; height: 300px;\">\n",
       "        <p id=\"3dmolwarning_17264240070860069\" style=\"background-color:#ffcccc;color:black\">3Dmol.js failed to load for some reason.  Please check your browser console for error messages.<br></p>\n",
       "        </div>\n",
       "<script>\n",
       "\n",
       "var loadScriptAsync = function(uri){\n",
       "  return new Promise((resolve, reject) => {\n",
       "    //this is to ignore the existence of requirejs amd\n",
       "    var savedexports, savedmodule;\n",
       "    if (typeof exports !== 'undefined') savedexports = exports;\n",
       "    else exports = {}\n",
       "    if (typeof module !== 'undefined') savedmodule = module;\n",
       "    else module = {}\n",
       "\n",
       "    var tag = document.createElement('script');\n",
       "    tag.src = uri;\n",
       "    tag.async = true;\n",
       "    tag.onload = () => {\n",
       "        exports = savedexports;\n",
       "        module = savedmodule;\n",
       "        resolve();\n",
       "    };\n",
       "  var firstScriptTag = document.getElementsByTagName('script')[0];\n",
       "  firstScriptTag.parentNode.insertBefore(tag, firstScriptTag);\n",
       "});\n",
       "};\n",
       "\n",
       "if(typeof $3Dmolpromise === 'undefined') {\n",
       "$3Dmolpromise = null;\n",
       "  $3Dmolpromise = loadScriptAsync('https://cdnjs.cloudflare.com/ajax/libs/3Dmol/2.4.0/3Dmol-min.js');\n",
       "}\n",
       "\n",
       "var viewer_17264240070860069 = null;\n",
       "var warn = document.getElementById(\"3dmolwarning_17264240070860069\");\n",
       "if(warn) {\n",
       "    warn.parentNode.removeChild(warn);\n",
       "}\n",
       "$3Dmolpromise.then(function() {\n",
       "viewer_17264240070860069 = $3Dmol.createViewer(document.getElementById(\"3dmolviewer_17264240070860069\"),{backgroundColor:\"white\"});\n",
       "viewer_17264240070860069.zoomTo();\n",
       "\tviewer_17264240070860069.addModel(\"#############################################################\\n#             ______       _    _          _                #\\n#            (_____ \\\\     \\\\ \\\\  / /        | |               #\\n#             _____) )   _ \\\\ \\\\/ / |_  ____| |               #\\n#            |  ____/ | | | )  (|  _)/ _  | |               #\\n#            | |    | |_| |/ /\\\\ \\\\ |_( (_| | |___            #\\n#            |_|     \\\\__  /_/  \\\\_\\\\___)__|_|_____)           #\\n#                   (____/                                  #\\n#---------------------(version    1.0.3)--------------------#\\n#       A Python package for random crystal generation      #\\n#       url: https://github.com/qzhu2017/pyxtal             #\\n#       @Zhu's group at University of Nevada Las Vegas      #\\n#############################################################\\ndata_from_pyxtal\\n\\n_symmetry_space_group_name_H-M 'P-43m'\\n_symmetry_Int_Tables_number                  215\\n_symmetry_cell_setting                     cubic\\n_cell_length_a            4.948132\\n_cell_length_b            4.948132\\n_cell_length_c            4.948132\\n_cell_angle_alpha        90.000000\\n_cell_angle_beta         90.000000\\n_cell_angle_gamma        90.000000\\n_cell_volume            121.150114\\n\\nloop_\\n _symmetry_equiv_pos_site_id\\n _symmetry_equiv_pos_as_xyz\\n1 'x, y, z'\\n2 '-x, -y, z'\\n3 '-x, y, -z'\\n4 'x, -y, -z'\\n5 'z, x, y'\\n6 'z, -x, -y'\\n7 '-z, -x, y'\\n8 '-z, x, -y'\\n9 'y, z, x'\\n10 '-y, z, -x'\\n11 'y, -z, -x'\\n12 '-y, -z, x'\\n13 'y, x, z'\\n14 '-y, -x, z'\\n15 'y, -x, -z'\\n16 '-y, x, -z'\\n17 'x, z, y'\\n18 '-x, z, -y'\\n19 '-x, -z, y'\\n20 'x, -z, -y'\\n21 'z, y, x'\\n22 'z, -y, -x'\\n23 '-z, y, -x'\\n24 '-z, -y, x'\\n\\nloop_\\n _atom_site_label\\n _atom_site_type_symbol\\n _atom_site_symmetry_multiplicity\\n _atom_site_fract_x\\n _atom_site_fract_y\\n _atom_site_fract_z\\n _atom_site_occupancy\\nLi     Li       4     0.155358    0.155358    0.155358 1\\nLi     Li       1     0.000000    0.000000    0.000000 1\\nLi     Li       3     0.000000    0.500000    0.500000 1\\nLi     Li       4     0.378357    0.378357    0.378357 1\\nO      O        3     0.500000    0.000000    0.000000 1\\n#END\\n\\n\",\"cif\",{\"doAssembly\": true, \"duplicateAssemblyAtoms\": true});\n",
       "\tviewer_17264240070860069.setStyle({\"sphere\": {\"colorscheme\": \"Jmol\", \"scale\": 0.25}, \"stick\": {\"colorscheme\": \"Jmol\", \"radius\": 0.1}});\n",
       "\tviewer_17264240070860069.addUnitCell();\n",
       "\tviewer_17264240070860069.replicateUnitCell(1,1,1);\n",
       "\tviewer_17264240070860069.zoomTo();\n",
       "viewer_17264240070860069.render();\n",
       "});\n",
       "</script>"
      ]
     },
     "metadata": {},
     "output_type": "display_data"
    },
    {
     "data": {
      "text/plain": [
       "<py3Dmol.view at 0x7f2b765fec90>"
      ]
     },
     "execution_count": 6,
     "metadata": {},
     "output_type": "execute_result"
    }
   ],
   "source": [
    "species, num_species = ['Li', 'O'], [0.8, 0.2]\n",
    "crystal1, crystal2 = generate_random_crystal_structure_from_composition(species, num_species), generate_random_crystal_structure_from_composition(species, num_species)\n",
    "pymatgen_to_pyxtal(crystal1).show()"
   ]
  },
  {
   "cell_type": "code",
   "execution_count": 7,
   "metadata": {},
   "outputs": [
    {
     "data": {
      "application/3dmoljs_load.v0": "<div id=\"3dmolviewer_17264240114652576\"  style=\"position: relative; width: 600px; height: 300px;\">\n        <p id=\"3dmolwarning_17264240114652576\" style=\"background-color:#ffcccc;color:black\">3Dmol.js failed to load for some reason.  Please check your browser console for error messages.<br></p>\n        </div>\n<script>\n\nvar loadScriptAsync = function(uri){\n  return new Promise((resolve, reject) => {\n    //this is to ignore the existence of requirejs amd\n    var savedexports, savedmodule;\n    if (typeof exports !== 'undefined') savedexports = exports;\n    else exports = {}\n    if (typeof module !== 'undefined') savedmodule = module;\n    else module = {}\n\n    var tag = document.createElement('script');\n    tag.src = uri;\n    tag.async = true;\n    tag.onload = () => {\n        exports = savedexports;\n        module = savedmodule;\n        resolve();\n    };\n  var firstScriptTag = document.getElementsByTagName('script')[0];\n  firstScriptTag.parentNode.insertBefore(tag, firstScriptTag);\n});\n};\n\nif(typeof $3Dmolpromise === 'undefined') {\n$3Dmolpromise = null;\n  $3Dmolpromise = loadScriptAsync('https://cdnjs.cloudflare.com/ajax/libs/3Dmol/2.4.0/3Dmol-min.js');\n}\n\nvar viewer_17264240114652576 = null;\nvar warn = document.getElementById(\"3dmolwarning_17264240114652576\");\nif(warn) {\n    warn.parentNode.removeChild(warn);\n}\n$3Dmolpromise.then(function() {\nviewer_17264240114652576 = $3Dmol.createViewer(document.getElementById(\"3dmolviewer_17264240114652576\"),{backgroundColor:\"white\"});\nviewer_17264240114652576.zoomTo();\n\tviewer_17264240114652576.addModel(\"#############################################################\\n#             ______       _    _          _                #\\n#            (_____ \\\\     \\\\ \\\\  / /        | |               #\\n#             _____) )   _ \\\\ \\\\/ / |_  ____| |               #\\n#            |  ____/ | | | )  (|  _)/ _  | |               #\\n#            | |    | |_| |/ /\\\\ \\\\ |_( (_| | |___            #\\n#            |_|     \\\\__  /_/  \\\\_\\\\___)__|_|_____)           #\\n#                   (____/                                  #\\n#---------------------(version    1.0.3)--------------------#\\n#       A Python package for random crystal generation      #\\n#       url: https://github.com/qzhu2017/pyxtal             #\\n#       @Zhu's group at University of Nevada Las Vegas      #\\n#############################################################\\ndata_from_pyxtal\\n\\n_symmetry_space_group_name_H-M 'P6/mmm'\\n_symmetry_Int_Tables_number                  191\\n_symmetry_cell_setting                 hexagonal\\n_cell_length_a            3.844374\\n_cell_length_b            3.844374\\n_cell_length_c            4.845345\\n_cell_angle_alpha        90.000000\\n_cell_angle_beta         90.000000\\n_cell_angle_gamma       120.000000\\n_cell_volume             62.016409\\n\\nloop_\\n _symmetry_equiv_pos_site_id\\n _symmetry_equiv_pos_as_xyz\\n1 'x, y, z'\\n2 '-y, x-y, z'\\n3 '-x+y, -x, z'\\n4 '-x, -y, z'\\n5 'y, -x+y, z'\\n6 'x-y, x, z'\\n7 'y, x, -z'\\n8 'x-y, -y, -z'\\n9 '-x, -x+y, -z'\\n10 '-y, -x, -z'\\n11 '-x+y, y, -z'\\n12 'x, x-y, -z'\\n13 '-x, -y, -z'\\n14 'y, -x+y, -z'\\n15 'x-y, x, -z'\\n16 'x, y, -z'\\n17 '-y, x-y, -z'\\n18 '-x+y, -x, -z'\\n19 '-y, -x, z'\\n20 '-x+y, y, z'\\n21 'x, x-y, z'\\n22 'y, x, z'\\n23 'x-y, -y, z'\\n24 '-x, -x+y, z'\\n\\nloop_\\n _atom_site_label\\n _atom_site_type_symbol\\n _atom_site_symmetry_multiplicity\\n _atom_site_fract_x\\n _atom_site_fract_y\\n _atom_site_fract_z\\n _atom_site_occupancy\\nLi     Li       3     0.500000    0.000000    0.000000 1\\nLi     Li       1     0.000000    0.000000    0.500000 1\\nO      O        1     0.000000    0.000000    0.000000 1\\n#END\\n\\n\",\"cif\",{\"doAssembly\": true, \"duplicateAssemblyAtoms\": true});\n\tviewer_17264240114652576.setStyle({\"sphere\": {\"colorscheme\": \"Jmol\", \"scale\": 0.25}, \"stick\": {\"colorscheme\": \"Jmol\", \"radius\": 0.1}});\n\tviewer_17264240114652576.addUnitCell();\n\tviewer_17264240114652576.replicateUnitCell(1,1,1);\n\tviewer_17264240114652576.zoomTo();\nviewer_17264240114652576.render();\n});\n</script>",
      "text/html": [
       "<div id=\"3dmolviewer_17264240114652576\"  style=\"position: relative; width: 600px; height: 300px;\">\n",
       "        <p id=\"3dmolwarning_17264240114652576\" style=\"background-color:#ffcccc;color:black\">3Dmol.js failed to load for some reason.  Please check your browser console for error messages.<br></p>\n",
       "        </div>\n",
       "<script>\n",
       "\n",
       "var loadScriptAsync = function(uri){\n",
       "  return new Promise((resolve, reject) => {\n",
       "    //this is to ignore the existence of requirejs amd\n",
       "    var savedexports, savedmodule;\n",
       "    if (typeof exports !== 'undefined') savedexports = exports;\n",
       "    else exports = {}\n",
       "    if (typeof module !== 'undefined') savedmodule = module;\n",
       "    else module = {}\n",
       "\n",
       "    var tag = document.createElement('script');\n",
       "    tag.src = uri;\n",
       "    tag.async = true;\n",
       "    tag.onload = () => {\n",
       "        exports = savedexports;\n",
       "        module = savedmodule;\n",
       "        resolve();\n",
       "    };\n",
       "  var firstScriptTag = document.getElementsByTagName('script')[0];\n",
       "  firstScriptTag.parentNode.insertBefore(tag, firstScriptTag);\n",
       "});\n",
       "};\n",
       "\n",
       "if(typeof $3Dmolpromise === 'undefined') {\n",
       "$3Dmolpromise = null;\n",
       "  $3Dmolpromise = loadScriptAsync('https://cdnjs.cloudflare.com/ajax/libs/3Dmol/2.4.0/3Dmol-min.js');\n",
       "}\n",
       "\n",
       "var viewer_17264240114652576 = null;\n",
       "var warn = document.getElementById(\"3dmolwarning_17264240114652576\");\n",
       "if(warn) {\n",
       "    warn.parentNode.removeChild(warn);\n",
       "}\n",
       "$3Dmolpromise.then(function() {\n",
       "viewer_17264240114652576 = $3Dmol.createViewer(document.getElementById(\"3dmolviewer_17264240114652576\"),{backgroundColor:\"white\"});\n",
       "viewer_17264240114652576.zoomTo();\n",
       "\tviewer_17264240114652576.addModel(\"#############################################################\\n#             ______       _    _          _                #\\n#            (_____ \\\\     \\\\ \\\\  / /        | |               #\\n#             _____) )   _ \\\\ \\\\/ / |_  ____| |               #\\n#            |  ____/ | | | )  (|  _)/ _  | |               #\\n#            | |    | |_| |/ /\\\\ \\\\ |_( (_| | |___            #\\n#            |_|     \\\\__  /_/  \\\\_\\\\___)__|_|_____)           #\\n#                   (____/                                  #\\n#---------------------(version    1.0.3)--------------------#\\n#       A Python package for random crystal generation      #\\n#       url: https://github.com/qzhu2017/pyxtal             #\\n#       @Zhu's group at University of Nevada Las Vegas      #\\n#############################################################\\ndata_from_pyxtal\\n\\n_symmetry_space_group_name_H-M 'P6/mmm'\\n_symmetry_Int_Tables_number                  191\\n_symmetry_cell_setting                 hexagonal\\n_cell_length_a            3.844374\\n_cell_length_b            3.844374\\n_cell_length_c            4.845345\\n_cell_angle_alpha        90.000000\\n_cell_angle_beta         90.000000\\n_cell_angle_gamma       120.000000\\n_cell_volume             62.016409\\n\\nloop_\\n _symmetry_equiv_pos_site_id\\n _symmetry_equiv_pos_as_xyz\\n1 'x, y, z'\\n2 '-y, x-y, z'\\n3 '-x+y, -x, z'\\n4 '-x, -y, z'\\n5 'y, -x+y, z'\\n6 'x-y, x, z'\\n7 'y, x, -z'\\n8 'x-y, -y, -z'\\n9 '-x, -x+y, -z'\\n10 '-y, -x, -z'\\n11 '-x+y, y, -z'\\n12 'x, x-y, -z'\\n13 '-x, -y, -z'\\n14 'y, -x+y, -z'\\n15 'x-y, x, -z'\\n16 'x, y, -z'\\n17 '-y, x-y, -z'\\n18 '-x+y, -x, -z'\\n19 '-y, -x, z'\\n20 '-x+y, y, z'\\n21 'x, x-y, z'\\n22 'y, x, z'\\n23 'x-y, -y, z'\\n24 '-x, -x+y, z'\\n\\nloop_\\n _atom_site_label\\n _atom_site_type_symbol\\n _atom_site_symmetry_multiplicity\\n _atom_site_fract_x\\n _atom_site_fract_y\\n _atom_site_fract_z\\n _atom_site_occupancy\\nLi     Li       3     0.500000    0.000000    0.000000 1\\nLi     Li       1     0.000000    0.000000    0.500000 1\\nO      O        1     0.000000    0.000000    0.000000 1\\n#END\\n\\n\",\"cif\",{\"doAssembly\": true, \"duplicateAssemblyAtoms\": true});\n",
       "\tviewer_17264240114652576.setStyle({\"sphere\": {\"colorscheme\": \"Jmol\", \"scale\": 0.25}, \"stick\": {\"colorscheme\": \"Jmol\", \"radius\": 0.1}});\n",
       "\tviewer_17264240114652576.addUnitCell();\n",
       "\tviewer_17264240114652576.replicateUnitCell(1,1,1);\n",
       "\tviewer_17264240114652576.zoomTo();\n",
       "viewer_17264240114652576.render();\n",
       "});\n",
       "</script>"
      ]
     },
     "metadata": {},
     "output_type": "display_data"
    },
    {
     "data": {
      "text/plain": [
       "<py3Dmol.view at 0x7f2b77a5a610>"
      ]
     },
     "execution_count": 7,
     "metadata": {},
     "output_type": "execute_result"
    }
   ],
   "source": [
    "pymatgen_to_pyxtal(crystal2).show()"
   ]
  },
  {
   "cell_type": "code",
   "execution_count": 8,
   "metadata": {},
   "outputs": [
    {
     "data": {
      "application/3dmoljs_load.v0": "<div id=\"3dmolviewer_17264240148558202\"  style=\"position: relative; width: 600px; height: 300px;\">\n        <p id=\"3dmolwarning_17264240148558202\" style=\"background-color:#ffcccc;color:black\">3Dmol.js failed to load for some reason.  Please check your browser console for error messages.<br></p>\n        </div>\n<script>\n\nvar loadScriptAsync = function(uri){\n  return new Promise((resolve, reject) => {\n    //this is to ignore the existence of requirejs amd\n    var savedexports, savedmodule;\n    if (typeof exports !== 'undefined') savedexports = exports;\n    else exports = {}\n    if (typeof module !== 'undefined') savedmodule = module;\n    else module = {}\n\n    var tag = document.createElement('script');\n    tag.src = uri;\n    tag.async = true;\n    tag.onload = () => {\n        exports = savedexports;\n        module = savedmodule;\n        resolve();\n    };\n  var firstScriptTag = document.getElementsByTagName('script')[0];\n  firstScriptTag.parentNode.insertBefore(tag, firstScriptTag);\n});\n};\n\nif(typeof $3Dmolpromise === 'undefined') {\n$3Dmolpromise = null;\n  $3Dmolpromise = loadScriptAsync('https://cdnjs.cloudflare.com/ajax/libs/3Dmol/2.4.0/3Dmol-min.js');\n}\n\nvar viewer_17264240148558202 = null;\nvar warn = document.getElementById(\"3dmolwarning_17264240148558202\");\nif(warn) {\n    warn.parentNode.removeChild(warn);\n}\n$3Dmolpromise.then(function() {\nviewer_17264240148558202 = $3Dmol.createViewer(document.getElementById(\"3dmolviewer_17264240148558202\"),{backgroundColor:\"white\"});\nviewer_17264240148558202.zoomTo();\n\tviewer_17264240148558202.addModel(\"#############################################################\\n#             ______       _    _          _                #\\n#            (_____ \\\\     \\\\ \\\\  / /        | |               #\\n#             _____) )   _ \\\\ \\\\/ / |_  ____| |               #\\n#            |  ____/ | | | )  (|  _)/ _  | |               #\\n#            | |    | |_| |/ /\\\\ \\\\ |_( (_| | |___            #\\n#            |_|     \\\\__  /_/  \\\\_\\\\___)__|_|_____)           #\\n#                   (____/                                  #\\n#---------------------(version    1.0.3)--------------------#\\n#       A Python package for random crystal generation      #\\n#       url: https://github.com/qzhu2017/pyxtal             #\\n#       @Zhu's group at University of Nevada Las Vegas      #\\n#############################################################\\ndata_from_pyxtal\\n\\n_symmetry_space_group_name_H-M 'P2'\\n_symmetry_Int_Tables_number                    3\\n_symmetry_cell_setting                monoclinic\\n_cell_length_a            4.290546\\n_cell_length_b            5.225849\\n_cell_length_c            4.415329\\n_cell_angle_alpha        90.000000\\n_cell_angle_beta        111.270111\\n_cell_angle_gamma        90.000000\\n_cell_volume             92.255615\\n\\nloop_\\n _symmetry_equiv_pos_site_id\\n _symmetry_equiv_pos_as_xyz\\n1 'x, y, z'\\n2 '-x, y, -z'\\n\\nloop_\\n _atom_site_label\\n _atom_site_type_symbol\\n _atom_site_symmetry_multiplicity\\n _atom_site_fract_x\\n _atom_site_fract_y\\n _atom_site_fract_z\\n _atom_site_occupancy\\nLi     Li       2     0.155358    0.844642    0.155358 1\\nLi     Li       2     0.844642    0.155358    0.155358 1\\nLi     Li       1     0.000000    0.000000    0.000000 1\\nLi     Li       1     0.500000    0.500000    0.000000 1\\nLi     Li       1     0.000000    0.000000    0.500000 1\\nLi     Li       1     0.500000    0.000000    0.500000 1\\nO      O        1     0.500000    0.000000    0.000000 1\\nO      O        1     0.000000    0.500000    0.000000 1\\n#END\\n\\n\",\"cif\",{\"doAssembly\": true, \"duplicateAssemblyAtoms\": true});\n\tviewer_17264240148558202.setStyle({\"sphere\": {\"colorscheme\": \"Jmol\", \"scale\": 0.25}, \"stick\": {\"colorscheme\": \"Jmol\", \"radius\": 0.1}});\n\tviewer_17264240148558202.addUnitCell();\n\tviewer_17264240148558202.replicateUnitCell(1,1,1);\n\tviewer_17264240148558202.zoomTo();\nviewer_17264240148558202.render();\n});\n</script>",
      "text/html": [
       "<div id=\"3dmolviewer_17264240148558202\"  style=\"position: relative; width: 600px; height: 300px;\">\n",
       "        <p id=\"3dmolwarning_17264240148558202\" style=\"background-color:#ffcccc;color:black\">3Dmol.js failed to load for some reason.  Please check your browser console for error messages.<br></p>\n",
       "        </div>\n",
       "<script>\n",
       "\n",
       "var loadScriptAsync = function(uri){\n",
       "  return new Promise((resolve, reject) => {\n",
       "    //this is to ignore the existence of requirejs amd\n",
       "    var savedexports, savedmodule;\n",
       "    if (typeof exports !== 'undefined') savedexports = exports;\n",
       "    else exports = {}\n",
       "    if (typeof module !== 'undefined') savedmodule = module;\n",
       "    else module = {}\n",
       "\n",
       "    var tag = document.createElement('script');\n",
       "    tag.src = uri;\n",
       "    tag.async = true;\n",
       "    tag.onload = () => {\n",
       "        exports = savedexports;\n",
       "        module = savedmodule;\n",
       "        resolve();\n",
       "    };\n",
       "  var firstScriptTag = document.getElementsByTagName('script')[0];\n",
       "  firstScriptTag.parentNode.insertBefore(tag, firstScriptTag);\n",
       "});\n",
       "};\n",
       "\n",
       "if(typeof $3Dmolpromise === 'undefined') {\n",
       "$3Dmolpromise = null;\n",
       "  $3Dmolpromise = loadScriptAsync('https://cdnjs.cloudflare.com/ajax/libs/3Dmol/2.4.0/3Dmol-min.js');\n",
       "}\n",
       "\n",
       "var viewer_17264240148558202 = null;\n",
       "var warn = document.getElementById(\"3dmolwarning_17264240148558202\");\n",
       "if(warn) {\n",
       "    warn.parentNode.removeChild(warn);\n",
       "}\n",
       "$3Dmolpromise.then(function() {\n",
       "viewer_17264240148558202 = $3Dmol.createViewer(document.getElementById(\"3dmolviewer_17264240148558202\"),{backgroundColor:\"white\"});\n",
       "viewer_17264240148558202.zoomTo();\n",
       "\tviewer_17264240148558202.addModel(\"#############################################################\\n#             ______       _    _          _                #\\n#            (_____ \\\\     \\\\ \\\\  / /        | |               #\\n#             _____) )   _ \\\\ \\\\/ / |_  ____| |               #\\n#            |  ____/ | | | )  (|  _)/ _  | |               #\\n#            | |    | |_| |/ /\\\\ \\\\ |_( (_| | |___            #\\n#            |_|     \\\\__  /_/  \\\\_\\\\___)__|_|_____)           #\\n#                   (____/                                  #\\n#---------------------(version    1.0.3)--------------------#\\n#       A Python package for random crystal generation      #\\n#       url: https://github.com/qzhu2017/pyxtal             #\\n#       @Zhu's group at University of Nevada Las Vegas      #\\n#############################################################\\ndata_from_pyxtal\\n\\n_symmetry_space_group_name_H-M 'P2'\\n_symmetry_Int_Tables_number                    3\\n_symmetry_cell_setting                monoclinic\\n_cell_length_a            4.290546\\n_cell_length_b            5.225849\\n_cell_length_c            4.415329\\n_cell_angle_alpha        90.000000\\n_cell_angle_beta        111.270111\\n_cell_angle_gamma        90.000000\\n_cell_volume             92.255615\\n\\nloop_\\n _symmetry_equiv_pos_site_id\\n _symmetry_equiv_pos_as_xyz\\n1 'x, y, z'\\n2 '-x, y, -z'\\n\\nloop_\\n _atom_site_label\\n _atom_site_type_symbol\\n _atom_site_symmetry_multiplicity\\n _atom_site_fract_x\\n _atom_site_fract_y\\n _atom_site_fract_z\\n _atom_site_occupancy\\nLi     Li       2     0.155358    0.844642    0.155358 1\\nLi     Li       2     0.844642    0.155358    0.155358 1\\nLi     Li       1     0.000000    0.000000    0.000000 1\\nLi     Li       1     0.500000    0.500000    0.000000 1\\nLi     Li       1     0.000000    0.000000    0.500000 1\\nLi     Li       1     0.500000    0.000000    0.500000 1\\nO      O        1     0.500000    0.000000    0.000000 1\\nO      O        1     0.000000    0.500000    0.000000 1\\n#END\\n\\n\",\"cif\",{\"doAssembly\": true, \"duplicateAssemblyAtoms\": true});\n",
       "\tviewer_17264240148558202.setStyle({\"sphere\": {\"colorscheme\": \"Jmol\", \"scale\": 0.25}, \"stick\": {\"colorscheme\": \"Jmol\", \"radius\": 0.1}});\n",
       "\tviewer_17264240148558202.addUnitCell();\n",
       "\tviewer_17264240148558202.replicateUnitCell(1,1,1);\n",
       "\tviewer_17264240148558202.zoomTo();\n",
       "viewer_17264240148558202.render();\n",
       "});\n",
       "</script>"
      ]
     },
     "metadata": {},
     "output_type": "display_data"
    },
    {
     "data": {
      "text/plain": [
       "<py3Dmol.view at 0x7f2b79339b50>"
      ]
     },
     "execution_count": 8,
     "metadata": {},
     "output_type": "execute_result"
    }
   ],
   "source": [
    "from src.evolutionary_algorithm.crossover_operator import crossover_operator\n",
    "\n",
    "child_crystal = crossover_operator(crystal1, crystal2)\n",
    "pymatgen_to_pyxtal(child_crystal).show()"
   ]
  },
  {
   "cell_type": "markdown",
   "metadata": {},
   "source": [
    "### 3. Test mutation of crystal structure"
   ]
  },
  {
   "cell_type": "code",
   "execution_count": 3,
   "metadata": {},
   "outputs": [
    {
     "data": {
      "application/3dmoljs_load.v0": "<div id=\"3dmolviewer_1726424212734651\"  style=\"position: relative; width: 600px; height: 300px;\">\n        <p id=\"3dmolwarning_1726424212734651\" style=\"background-color:#ffcccc;color:black\">3Dmol.js failed to load for some reason.  Please check your browser console for error messages.<br></p>\n        </div>\n<script>\n\nvar loadScriptAsync = function(uri){\n  return new Promise((resolve, reject) => {\n    //this is to ignore the existence of requirejs amd\n    var savedexports, savedmodule;\n    if (typeof exports !== 'undefined') savedexports = exports;\n    else exports = {}\n    if (typeof module !== 'undefined') savedmodule = module;\n    else module = {}\n\n    var tag = document.createElement('script');\n    tag.src = uri;\n    tag.async = true;\n    tag.onload = () => {\n        exports = savedexports;\n        module = savedmodule;\n        resolve();\n    };\n  var firstScriptTag = document.getElementsByTagName('script')[0];\n  firstScriptTag.parentNode.insertBefore(tag, firstScriptTag);\n});\n};\n\nif(typeof $3Dmolpromise === 'undefined') {\n$3Dmolpromise = null;\n  $3Dmolpromise = loadScriptAsync('https://cdnjs.cloudflare.com/ajax/libs/3Dmol/2.4.0/3Dmol-min.js');\n}\n\nvar viewer_1726424212734651 = null;\nvar warn = document.getElementById(\"3dmolwarning_1726424212734651\");\nif(warn) {\n    warn.parentNode.removeChild(warn);\n}\n$3Dmolpromise.then(function() {\nviewer_1726424212734651 = $3Dmol.createViewer(document.getElementById(\"3dmolviewer_1726424212734651\"),{backgroundColor:\"white\"});\nviewer_1726424212734651.zoomTo();\n\tviewer_1726424212734651.addModel(\"#############################################################\\n#             ______       _    _          _                #\\n#            (_____ \\\\     \\\\ \\\\  / /        | |               #\\n#             _____) )   _ \\\\ \\\\/ / |_  ____| |               #\\n#            |  ____/ | | | )  (|  _)/ _  | |               #\\n#            | |    | |_| |/ /\\\\ \\\\ |_( (_| | |___            #\\n#            |_|     \\\\__  /_/  \\\\_\\\\___)__|_|_____)           #\\n#                   (____/                                  #\\n#---------------------(version    1.0.3)--------------------#\\n#       A Python package for random crystal generation      #\\n#       url: https://github.com/qzhu2017/pyxtal             #\\n#       @Zhu's group at University of Nevada Las Vegas      #\\n#############################################################\\ndata_from_pyxtal\\n\\n_symmetry_space_group_name_H-M 'P-1'\\n_symmetry_Int_Tables_number                    2\\n_symmetry_cell_setting                 triclinic\\n_cell_length_a            4.196428\\n_cell_length_b            5.081220\\n_cell_length_c            5.695473\\n_cell_angle_alpha        66.576172\\n_cell_angle_beta         76.364868\\n_cell_angle_gamma        70.994465\\n_cell_volume            104.567858\\n\\nloop_\\n _symmetry_equiv_pos_site_id\\n _symmetry_equiv_pos_as_xyz\\n1 'x, y, z'\\n2 '-x, -y, -z'\\n\\nloop_\\n _atom_site_label\\n _atom_site_type_symbol\\n _atom_site_symmetry_multiplicity\\n _atom_site_fract_x\\n _atom_site_fract_y\\n _atom_site_fract_z\\n _atom_site_occupancy\\nLi     Li       1     0.500000    0.000000    0.500000 1\\nLi     Li       1     0.500000    0.500000    0.500000 1\\nLi     Li       2     0.032282    0.097999    0.369999 1\\nLi     Li       1     0.500000    0.000000    0.000000 1\\nLi     Li       2     0.801706    0.320837    0.439894 1\\nLi     Li       1     0.000000    0.500000    0.000000 1\\nCu     Cu       1     0.500000    0.500000    0.000000 1\\nO      O        1     0.000000    0.000000    0.000000 1\\n#END\\n\\n\",\"cif\",{\"doAssembly\": true, \"duplicateAssemblyAtoms\": true});\n\tviewer_1726424212734651.setStyle({\"sphere\": {\"colorscheme\": \"Jmol\", \"scale\": 0.25}, \"stick\": {\"colorscheme\": \"Jmol\", \"radius\": 0.1}});\n\tviewer_1726424212734651.addUnitCell();\n\tviewer_1726424212734651.replicateUnitCell(1,1,1);\n\tviewer_1726424212734651.zoomTo();\nviewer_1726424212734651.render();\n});\n</script>",
      "text/html": [
       "<div id=\"3dmolviewer_1726424212734651\"  style=\"position: relative; width: 600px; height: 300px;\">\n",
       "        <p id=\"3dmolwarning_1726424212734651\" style=\"background-color:#ffcccc;color:black\">3Dmol.js failed to load for some reason.  Please check your browser console for error messages.<br></p>\n",
       "        </div>\n",
       "<script>\n",
       "\n",
       "var loadScriptAsync = function(uri){\n",
       "  return new Promise((resolve, reject) => {\n",
       "    //this is to ignore the existence of requirejs amd\n",
       "    var savedexports, savedmodule;\n",
       "    if (typeof exports !== 'undefined') savedexports = exports;\n",
       "    else exports = {}\n",
       "    if (typeof module !== 'undefined') savedmodule = module;\n",
       "    else module = {}\n",
       "\n",
       "    var tag = document.createElement('script');\n",
       "    tag.src = uri;\n",
       "    tag.async = true;\n",
       "    tag.onload = () => {\n",
       "        exports = savedexports;\n",
       "        module = savedmodule;\n",
       "        resolve();\n",
       "    };\n",
       "  var firstScriptTag = document.getElementsByTagName('script')[0];\n",
       "  firstScriptTag.parentNode.insertBefore(tag, firstScriptTag);\n",
       "});\n",
       "};\n",
       "\n",
       "if(typeof $3Dmolpromise === 'undefined') {\n",
       "$3Dmolpromise = null;\n",
       "  $3Dmolpromise = loadScriptAsync('https://cdnjs.cloudflare.com/ajax/libs/3Dmol/2.4.0/3Dmol-min.js');\n",
       "}\n",
       "\n",
       "var viewer_1726424212734651 = null;\n",
       "var warn = document.getElementById(\"3dmolwarning_1726424212734651\");\n",
       "if(warn) {\n",
       "    warn.parentNode.removeChild(warn);\n",
       "}\n",
       "$3Dmolpromise.then(function() {\n",
       "viewer_1726424212734651 = $3Dmol.createViewer(document.getElementById(\"3dmolviewer_1726424212734651\"),{backgroundColor:\"white\"});\n",
       "viewer_1726424212734651.zoomTo();\n",
       "\tviewer_1726424212734651.addModel(\"#############################################################\\n#             ______       _    _          _                #\\n#            (_____ \\\\     \\\\ \\\\  / /        | |               #\\n#             _____) )   _ \\\\ \\\\/ / |_  ____| |               #\\n#            |  ____/ | | | )  (|  _)/ _  | |               #\\n#            | |    | |_| |/ /\\\\ \\\\ |_( (_| | |___            #\\n#            |_|     \\\\__  /_/  \\\\_\\\\___)__|_|_____)           #\\n#                   (____/                                  #\\n#---------------------(version    1.0.3)--------------------#\\n#       A Python package for random crystal generation      #\\n#       url: https://github.com/qzhu2017/pyxtal             #\\n#       @Zhu's group at University of Nevada Las Vegas      #\\n#############################################################\\ndata_from_pyxtal\\n\\n_symmetry_space_group_name_H-M 'P-1'\\n_symmetry_Int_Tables_number                    2\\n_symmetry_cell_setting                 triclinic\\n_cell_length_a            4.196428\\n_cell_length_b            5.081220\\n_cell_length_c            5.695473\\n_cell_angle_alpha        66.576172\\n_cell_angle_beta         76.364868\\n_cell_angle_gamma        70.994465\\n_cell_volume            104.567858\\n\\nloop_\\n _symmetry_equiv_pos_site_id\\n _symmetry_equiv_pos_as_xyz\\n1 'x, y, z'\\n2 '-x, -y, -z'\\n\\nloop_\\n _atom_site_label\\n _atom_site_type_symbol\\n _atom_site_symmetry_multiplicity\\n _atom_site_fract_x\\n _atom_site_fract_y\\n _atom_site_fract_z\\n _atom_site_occupancy\\nLi     Li       1     0.500000    0.000000    0.500000 1\\nLi     Li       1     0.500000    0.500000    0.500000 1\\nLi     Li       2     0.032282    0.097999    0.369999 1\\nLi     Li       1     0.500000    0.000000    0.000000 1\\nLi     Li       2     0.801706    0.320837    0.439894 1\\nLi     Li       1     0.000000    0.500000    0.000000 1\\nCu     Cu       1     0.500000    0.500000    0.000000 1\\nO      O        1     0.000000    0.000000    0.000000 1\\n#END\\n\\n\",\"cif\",{\"doAssembly\": true, \"duplicateAssemblyAtoms\": true});\n",
       "\tviewer_1726424212734651.setStyle({\"sphere\": {\"colorscheme\": \"Jmol\", \"scale\": 0.25}, \"stick\": {\"colorscheme\": \"Jmol\", \"radius\": 0.1}});\n",
       "\tviewer_1726424212734651.addUnitCell();\n",
       "\tviewer_1726424212734651.replicateUnitCell(1,1,1);\n",
       "\tviewer_1726424212734651.zoomTo();\n",
       "viewer_1726424212734651.render();\n",
       "});\n",
       "</script>"
      ]
     },
     "metadata": {},
     "output_type": "display_data"
    },
    {
     "data": {
      "text/plain": [
       "<py3Dmol.view at 0x7f1750436810>"
      ]
     },
     "execution_count": 3,
     "metadata": {},
     "output_type": "execute_result"
    }
   ],
   "source": [
    "from src.evolutionary_algorithm.mutate_operator import mutate_operator\n",
    "my_crystal = generate_random_crystal_structure_from_composition(['Li', 'O', 'Cu'], [0.8, 0.1, 0.1])\n",
    "pymatgen_to_pyxtal(my_crystal).show()"
   ]
  },
  {
   "cell_type": "code",
   "execution_count": 4,
   "metadata": {},
   "outputs": [
    {
     "data": {
      "application/3dmoljs_load.v0": "<div id=\"3dmolviewer_1726424218400983\"  style=\"position: relative; width: 600px; height: 300px;\">\n        <p id=\"3dmolwarning_1726424218400983\" style=\"background-color:#ffcccc;color:black\">3Dmol.js failed to load for some reason.  Please check your browser console for error messages.<br></p>\n        </div>\n<script>\n\nvar loadScriptAsync = function(uri){\n  return new Promise((resolve, reject) => {\n    //this is to ignore the existence of requirejs amd\n    var savedexports, savedmodule;\n    if (typeof exports !== 'undefined') savedexports = exports;\n    else exports = {}\n    if (typeof module !== 'undefined') savedmodule = module;\n    else module = {}\n\n    var tag = document.createElement('script');\n    tag.src = uri;\n    tag.async = true;\n    tag.onload = () => {\n        exports = savedexports;\n        module = savedmodule;\n        resolve();\n    };\n  var firstScriptTag = document.getElementsByTagName('script')[0];\n  firstScriptTag.parentNode.insertBefore(tag, firstScriptTag);\n});\n};\n\nif(typeof $3Dmolpromise === 'undefined') {\n$3Dmolpromise = null;\n  $3Dmolpromise = loadScriptAsync('https://cdnjs.cloudflare.com/ajax/libs/3Dmol/2.4.0/3Dmol-min.js');\n}\n\nvar viewer_1726424218400983 = null;\nvar warn = document.getElementById(\"3dmolwarning_1726424218400983\");\nif(warn) {\n    warn.parentNode.removeChild(warn);\n}\n$3Dmolpromise.then(function() {\nviewer_1726424218400983 = $3Dmol.createViewer(document.getElementById(\"3dmolviewer_1726424218400983\"),{backgroundColor:\"white\"});\nviewer_1726424218400983.zoomTo();\n\tviewer_1726424218400983.addModel(\"#############################################################\\n#             ______       _    _          _                #\\n#            (_____ \\\\     \\\\ \\\\  / /        | |               #\\n#             _____) )   _ \\\\ \\\\/ / |_  ____| |               #\\n#            |  ____/ | | | )  (|  _)/ _  | |               #\\n#            | |    | |_| |/ /\\\\ \\\\ |_( (_| | |___            #\\n#            |_|     \\\\__  /_/  \\\\_\\\\___)__|_|_____)           #\\n#                   (____/                                  #\\n#---------------------(version    1.0.3)--------------------#\\n#       A Python package for random crystal generation      #\\n#       url: https://github.com/qzhu2017/pyxtal             #\\n#       @Zhu's group at University of Nevada Las Vegas      #\\n#############################################################\\ndata_from_pyxtal\\n\\n_symmetry_space_group_name_H-M 'P-1'\\n_symmetry_Int_Tables_number                    2\\n_symmetry_cell_setting                 triclinic\\n_cell_length_a            4.568081\\n_cell_length_b            4.979386\\n_cell_length_c            5.011115\\n_cell_angle_alpha        70.493926\\n_cell_angle_beta         87.748565\\n_cell_angle_gamma        76.909227\\n_cell_volume            104.567858\\n\\nloop_\\n _symmetry_equiv_pos_site_id\\n _symmetry_equiv_pos_as_xyz\\n1 'x, y, z'\\n2 '-x, -y, -z'\\n\\nloop_\\n _atom_site_label\\n _atom_site_type_symbol\\n _atom_site_symmetry_multiplicity\\n _atom_site_fract_x\\n _atom_site_fract_y\\n _atom_site_fract_z\\n _atom_site_occupancy\\nLi     Li       1     0.500000    0.500000    0.500000 1\\nLi     Li       1     0.000000    0.000000    0.500000 1\\nLi     Li       2     0.130281    0.272000    0.630001 1\\nLi     Li       1     0.500000    0.000000    0.000000 1\\nLi     Li       2     0.122543    0.119058    0.560106 1\\nLi     Li       1     0.500000    0.500000    0.000000 1\\nCu     Cu       1     0.000000    0.500000    0.000000 1\\nO      O        1     0.000000    0.000000    0.000000 1\\n#END\\n\\n\",\"cif\",{\"doAssembly\": true, \"duplicateAssemblyAtoms\": true});\n\tviewer_1726424218400983.setStyle({\"sphere\": {\"colorscheme\": \"Jmol\", \"scale\": 0.25}, \"stick\": {\"colorscheme\": \"Jmol\", \"radius\": 0.1}});\n\tviewer_1726424218400983.addUnitCell();\n\tviewer_1726424218400983.replicateUnitCell(1,1,1);\n\tviewer_1726424218400983.zoomTo();\nviewer_1726424218400983.render();\n});\n</script>",
      "text/html": [
       "<div id=\"3dmolviewer_1726424218400983\"  style=\"position: relative; width: 600px; height: 300px;\">\n",
       "        <p id=\"3dmolwarning_1726424218400983\" style=\"background-color:#ffcccc;color:black\">3Dmol.js failed to load for some reason.  Please check your browser console for error messages.<br></p>\n",
       "        </div>\n",
       "<script>\n",
       "\n",
       "var loadScriptAsync = function(uri){\n",
       "  return new Promise((resolve, reject) => {\n",
       "    //this is to ignore the existence of requirejs amd\n",
       "    var savedexports, savedmodule;\n",
       "    if (typeof exports !== 'undefined') savedexports = exports;\n",
       "    else exports = {}\n",
       "    if (typeof module !== 'undefined') savedmodule = module;\n",
       "    else module = {}\n",
       "\n",
       "    var tag = document.createElement('script');\n",
       "    tag.src = uri;\n",
       "    tag.async = true;\n",
       "    tag.onload = () => {\n",
       "        exports = savedexports;\n",
       "        module = savedmodule;\n",
       "        resolve();\n",
       "    };\n",
       "  var firstScriptTag = document.getElementsByTagName('script')[0];\n",
       "  firstScriptTag.parentNode.insertBefore(tag, firstScriptTag);\n",
       "});\n",
       "};\n",
       "\n",
       "if(typeof $3Dmolpromise === 'undefined') {\n",
       "$3Dmolpromise = null;\n",
       "  $3Dmolpromise = loadScriptAsync('https://cdnjs.cloudflare.com/ajax/libs/3Dmol/2.4.0/3Dmol-min.js');\n",
       "}\n",
       "\n",
       "var viewer_1726424218400983 = null;\n",
       "var warn = document.getElementById(\"3dmolwarning_1726424218400983\");\n",
       "if(warn) {\n",
       "    warn.parentNode.removeChild(warn);\n",
       "}\n",
       "$3Dmolpromise.then(function() {\n",
       "viewer_1726424218400983 = $3Dmol.createViewer(document.getElementById(\"3dmolviewer_1726424218400983\"),{backgroundColor:\"white\"});\n",
       "viewer_1726424218400983.zoomTo();\n",
       "\tviewer_1726424218400983.addModel(\"#############################################################\\n#             ______       _    _          _                #\\n#            (_____ \\\\     \\\\ \\\\  / /        | |               #\\n#             _____) )   _ \\\\ \\\\/ / |_  ____| |               #\\n#            |  ____/ | | | )  (|  _)/ _  | |               #\\n#            | |    | |_| |/ /\\\\ \\\\ |_( (_| | |___            #\\n#            |_|     \\\\__  /_/  \\\\_\\\\___)__|_|_____)           #\\n#                   (____/                                  #\\n#---------------------(version    1.0.3)--------------------#\\n#       A Python package for random crystal generation      #\\n#       url: https://github.com/qzhu2017/pyxtal             #\\n#       @Zhu's group at University of Nevada Las Vegas      #\\n#############################################################\\ndata_from_pyxtal\\n\\n_symmetry_space_group_name_H-M 'P-1'\\n_symmetry_Int_Tables_number                    2\\n_symmetry_cell_setting                 triclinic\\n_cell_length_a            4.568081\\n_cell_length_b            4.979386\\n_cell_length_c            5.011115\\n_cell_angle_alpha        70.493926\\n_cell_angle_beta         87.748565\\n_cell_angle_gamma        76.909227\\n_cell_volume            104.567858\\n\\nloop_\\n _symmetry_equiv_pos_site_id\\n _symmetry_equiv_pos_as_xyz\\n1 'x, y, z'\\n2 '-x, -y, -z'\\n\\nloop_\\n _atom_site_label\\n _atom_site_type_symbol\\n _atom_site_symmetry_multiplicity\\n _atom_site_fract_x\\n _atom_site_fract_y\\n _atom_site_fract_z\\n _atom_site_occupancy\\nLi     Li       1     0.500000    0.500000    0.500000 1\\nLi     Li       1     0.000000    0.000000    0.500000 1\\nLi     Li       2     0.130281    0.272000    0.630001 1\\nLi     Li       1     0.500000    0.000000    0.000000 1\\nLi     Li       2     0.122543    0.119058    0.560106 1\\nLi     Li       1     0.500000    0.500000    0.000000 1\\nCu     Cu       1     0.000000    0.500000    0.000000 1\\nO      O        1     0.000000    0.000000    0.000000 1\\n#END\\n\\n\",\"cif\",{\"doAssembly\": true, \"duplicateAssemblyAtoms\": true});\n",
       "\tviewer_1726424218400983.setStyle({\"sphere\": {\"colorscheme\": \"Jmol\", \"scale\": 0.25}, \"stick\": {\"colorscheme\": \"Jmol\", \"radius\": 0.1}});\n",
       "\tviewer_1726424218400983.addUnitCell();\n",
       "\tviewer_1726424218400983.replicateUnitCell(1,1,1);\n",
       "\tviewer_1726424218400983.zoomTo();\n",
       "viewer_1726424218400983.render();\n",
       "});\n",
       "</script>"
      ]
     },
     "metadata": {},
     "output_type": "display_data"
    },
    {
     "data": {
      "text/plain": [
       "<py3Dmol.view at 0x7f1750706190>"
      ]
     },
     "execution_count": 4,
     "metadata": {},
     "output_type": "execute_result"
    }
   ],
   "source": [
    "my_crystal = mutate_operator(my_crystal, rescaling_volume=my_crystal.volume)\n",
    "pymatgen_to_pyxtal(my_crystal).show()"
   ]
  },
  {
   "cell_type": "markdown",
   "metadata": {},
   "source": [
    "### Some other bullshit"
   ]
  },
  {
   "cell_type": "code",
   "execution_count": 6,
   "metadata": {},
   "outputs": [
    {
     "ename": "TypeError",
     "evalue": "display_atomic() got an unexpected keyword argument 'super_cell'",
     "output_type": "error",
     "traceback": [
      "\u001b[0;31m---------------------------------------------------------------------------\u001b[0m",
      "\u001b[0;31mTypeError\u001b[0m                                 Traceback (most recent call last)",
      "Cell \u001b[0;32mIn[6], line 3\u001b[0m\n\u001b[1;32m      1\u001b[0m pyxtal_crystal \u001b[38;5;241m=\u001b[39m pyxtal()\n\u001b[1;32m      2\u001b[0m pyxtal_crystal\u001b[38;5;241m.\u001b[39mfrom_seed(\u001b[38;5;124m\"\u001b[39m\u001b[38;5;124moutputs/best_structure_9.cif\u001b[39m\u001b[38;5;124m\"\u001b[39m)\n\u001b[0;32m----> 3\u001b[0m \u001b[43mpyxtal_crystal\u001b[49m\u001b[38;5;241;43m.\u001b[39;49m\u001b[43mshow\u001b[49m\u001b[43m(\u001b[49m\u001b[43msuper_cell\u001b[49m\u001b[38;5;241;43m=\u001b[39;49m\u001b[43m(\u001b[49m\u001b[38;5;241;43m2\u001b[39;49m\u001b[43m,\u001b[49m\u001b[38;5;241;43m2\u001b[39;49m\u001b[43m,\u001b[49m\u001b[38;5;241;43m2\u001b[39;49m\u001b[43m)\u001b[49m\u001b[43m)\u001b[49m\n",
      "File \u001b[0;32m~/miniconda3/envs/mat/lib/python3.11/site-packages/pyxtal/__init__.py:1958\u001b[0m, in \u001b[0;36mpyxtal.show\u001b[0;34m(self, **kwargs)\u001b[0m\n\u001b[1;32m   1956\u001b[0m     \u001b[38;5;28;01mreturn\u001b[39;00m display_molecular(\u001b[38;5;28mself\u001b[39m, \u001b[38;5;241m*\u001b[39m\u001b[38;5;241m*\u001b[39mkwargs)\n\u001b[1;32m   1957\u001b[0m \u001b[38;5;28;01melse\u001b[39;00m:\n\u001b[0;32m-> 1958\u001b[0m     \u001b[38;5;28;01mreturn\u001b[39;00m \u001b[43mdisplay_atomic\u001b[49m\u001b[43m(\u001b[49m\u001b[38;5;28;43mself\u001b[39;49m\u001b[43m,\u001b[49m\u001b[43m \u001b[49m\u001b[38;5;241;43m*\u001b[39;49m\u001b[38;5;241;43m*\u001b[39;49m\u001b[43mkwargs\u001b[49m\u001b[43m)\u001b[49m\n",
      "\u001b[0;31mTypeError\u001b[0m: display_atomic() got an unexpected keyword argument 'super_cell'"
     ]
    }
   ],
   "source": [
    "pyxtal_crystal = pyxtal()\n",
    "pyxtal_crystal.from_seed(\"outputs/best_structure_9.cif\")\n",
    "pyxtal_crystal.show(super_cell=(2,2,2))"
   ]
  },
  {
   "cell_type": "code",
   "execution_count": 9,
   "metadata": {},
   "outputs": [
    {
     "name": "stderr",
     "output_type": "stream",
     "text": [
      "/home/rhjvanworkum/miniconda3/envs/mat/lib/python3.11/site-packages/pymatgen/io/cif.py:1290: UserWarning: Issues encountered while parsing CIF: 4 fractional coordinates rounded to ideal values to avoid issues with finite precision.\n",
      "  warnings.warn(\"Issues encountered while parsing CIF: \" + \"\\n\".join(self.warnings))\n"
     ]
    },
    {
     "data": {
      "application/3dmoljs_load.v0": "<div id=\"3dmolviewer_1726422766321788\"  style=\"position: relative; width: 600px; height: 300px;\">\n        <p id=\"3dmolwarning_1726422766321788\" style=\"background-color:#ffcccc;color:black\">3Dmol.js failed to load for some reason.  Please check your browser console for error messages.<br></p>\n        </div>\n<script>\n\nvar loadScriptAsync = function(uri){\n  return new Promise((resolve, reject) => {\n    //this is to ignore the existence of requirejs amd\n    var savedexports, savedmodule;\n    if (typeof exports !== 'undefined') savedexports = exports;\n    else exports = {}\n    if (typeof module !== 'undefined') savedmodule = module;\n    else module = {}\n\n    var tag = document.createElement('script');\n    tag.src = uri;\n    tag.async = true;\n    tag.onload = () => {\n        exports = savedexports;\n        module = savedmodule;\n        resolve();\n    };\n  var firstScriptTag = document.getElementsByTagName('script')[0];\n  firstScriptTag.parentNode.insertBefore(tag, firstScriptTag);\n});\n};\n\nif(typeof $3Dmolpromise === 'undefined') {\n$3Dmolpromise = null;\n  $3Dmolpromise = loadScriptAsync('https://cdnjs.cloudflare.com/ajax/libs/3Dmol/2.4.0/3Dmol-min.js');\n}\n\nvar viewer_1726422766321788 = null;\nvar warn = document.getElementById(\"3dmolwarning_1726422766321788\");\nif(warn) {\n    warn.parentNode.removeChild(warn);\n}\n$3Dmolpromise.then(function() {\nviewer_1726422766321788 = $3Dmol.createViewer(document.getElementById(\"3dmolviewer_1726422766321788\"),{backgroundColor:\"white\"});\nviewer_1726422766321788.zoomTo();\n\tviewer_1726422766321788.addModel(\"#############################################################\\n#             ______       _    _          _                #\\n#            (_____ \\\\     \\\\ \\\\  / /        | |               #\\n#             _____) )   _ \\\\ \\\\/ / |_  ____| |               #\\n#            |  ____/ | | | )  (|  _)/ _  | |               #\\n#            | |    | |_| |/ /\\\\ \\\\ |_( (_| | |___            #\\n#            |_|     \\\\__  /_/  \\\\_\\\\___)__|_|_____)           #\\n#                   (____/                                  #\\n#---------------------(version    1.0.3)--------------------#\\n#       A Python package for random crystal generation      #\\n#       url: https://github.com/qzhu2017/pyxtal             #\\n#       @Zhu's group at University of Nevada Las Vegas      #\\n#############################################################\\ndata_from_pyxtal\\n\\n_symmetry_space_group_name_H-M 'P31m'\\n_symmetry_Int_Tables_number                  157\\n_symmetry_cell_setting                  trigonal\\n_cell_length_a            5.168997\\n_cell_length_b            5.168997\\n_cell_length_c            6.718001\\n_cell_angle_alpha        90.000000\\n_cell_angle_beta         90.000000\\n_cell_angle_gamma       120.000000\\n_cell_volume            155.447315\\n\\nloop_\\n _symmetry_equiv_pos_site_id\\n _symmetry_equiv_pos_as_xyz\\n1 'x, y, z'\\n2 '-y, x-y, z'\\n3 '-x+y, -x, z'\\n4 'y, x, z'\\n5 'x-y, -y, z'\\n6 '-x, -x+y, z'\\n\\nloop_\\n _atom_site_label\\n _atom_site_type_symbol\\n _atom_site_symmetry_multiplicity\\n _atom_site_fract_x\\n _atom_site_fract_y\\n _atom_site_fract_z\\n _atom_site_occupancy\\nLi     Li       2     0.333333    0.666667    0.514292 1\\nLi     Li       3     0.856273    0.000000    0.084590 1\\nLi     Li       3     0.543159    0.000000    0.944881 1\\nCu     Cu       1     0.000000    0.000000    0.815532 1\\nO      O        1     0.000000    0.000000    0.297696 1\\n#END\\n\\n\",\"cif\",{\"doAssembly\": true, \"duplicateAssemblyAtoms\": true});\n\tviewer_1726422766321788.setStyle({\"sphere\": {\"colorscheme\": \"Jmol\", \"scale\": 0.25}, \"stick\": {\"colorscheme\": \"Jmol\", \"radius\": 0.1}});\n\tviewer_1726422766321788.addUnitCell();\n\tviewer_1726422766321788.replicateUnitCell(1,1,1);\n\tviewer_1726422766321788.zoomTo();\nviewer_1726422766321788.render();\n});\n</script>",
      "text/html": [
       "<div id=\"3dmolviewer_1726422766321788\"  style=\"position: relative; width: 600px; height: 300px;\">\n",
       "        <p id=\"3dmolwarning_1726422766321788\" style=\"background-color:#ffcccc;color:black\">3Dmol.js failed to load for some reason.  Please check your browser console for error messages.<br></p>\n",
       "        </div>\n",
       "<script>\n",
       "\n",
       "var loadScriptAsync = function(uri){\n",
       "  return new Promise((resolve, reject) => {\n",
       "    //this is to ignore the existence of requirejs amd\n",
       "    var savedexports, savedmodule;\n",
       "    if (typeof exports !== 'undefined') savedexports = exports;\n",
       "    else exports = {}\n",
       "    if (typeof module !== 'undefined') savedmodule = module;\n",
       "    else module = {}\n",
       "\n",
       "    var tag = document.createElement('script');\n",
       "    tag.src = uri;\n",
       "    tag.async = true;\n",
       "    tag.onload = () => {\n",
       "        exports = savedexports;\n",
       "        module = savedmodule;\n",
       "        resolve();\n",
       "    };\n",
       "  var firstScriptTag = document.getElementsByTagName('script')[0];\n",
       "  firstScriptTag.parentNode.insertBefore(tag, firstScriptTag);\n",
       "});\n",
       "};\n",
       "\n",
       "if(typeof $3Dmolpromise === 'undefined') {\n",
       "$3Dmolpromise = null;\n",
       "  $3Dmolpromise = loadScriptAsync('https://cdnjs.cloudflare.com/ajax/libs/3Dmol/2.4.0/3Dmol-min.js');\n",
       "}\n",
       "\n",
       "var viewer_1726422766321788 = null;\n",
       "var warn = document.getElementById(\"3dmolwarning_1726422766321788\");\n",
       "if(warn) {\n",
       "    warn.parentNode.removeChild(warn);\n",
       "}\n",
       "$3Dmolpromise.then(function() {\n",
       "viewer_1726422766321788 = $3Dmol.createViewer(document.getElementById(\"3dmolviewer_1726422766321788\"),{backgroundColor:\"white\"});\n",
       "viewer_1726422766321788.zoomTo();\n",
       "\tviewer_1726422766321788.addModel(\"#############################################################\\n#             ______       _    _          _                #\\n#            (_____ \\\\     \\\\ \\\\  / /        | |               #\\n#             _____) )   _ \\\\ \\\\/ / |_  ____| |               #\\n#            |  ____/ | | | )  (|  _)/ _  | |               #\\n#            | |    | |_| |/ /\\\\ \\\\ |_( (_| | |___            #\\n#            |_|     \\\\__  /_/  \\\\_\\\\___)__|_|_____)           #\\n#                   (____/                                  #\\n#---------------------(version    1.0.3)--------------------#\\n#       A Python package for random crystal generation      #\\n#       url: https://github.com/qzhu2017/pyxtal             #\\n#       @Zhu's group at University of Nevada Las Vegas      #\\n#############################################################\\ndata_from_pyxtal\\n\\n_symmetry_space_group_name_H-M 'P31m'\\n_symmetry_Int_Tables_number                  157\\n_symmetry_cell_setting                  trigonal\\n_cell_length_a            5.168997\\n_cell_length_b            5.168997\\n_cell_length_c            6.718001\\n_cell_angle_alpha        90.000000\\n_cell_angle_beta         90.000000\\n_cell_angle_gamma       120.000000\\n_cell_volume            155.447315\\n\\nloop_\\n _symmetry_equiv_pos_site_id\\n _symmetry_equiv_pos_as_xyz\\n1 'x, y, z'\\n2 '-y, x-y, z'\\n3 '-x+y, -x, z'\\n4 'y, x, z'\\n5 'x-y, -y, z'\\n6 '-x, -x+y, z'\\n\\nloop_\\n _atom_site_label\\n _atom_site_type_symbol\\n _atom_site_symmetry_multiplicity\\n _atom_site_fract_x\\n _atom_site_fract_y\\n _atom_site_fract_z\\n _atom_site_occupancy\\nLi     Li       2     0.333333    0.666667    0.514292 1\\nLi     Li       3     0.856273    0.000000    0.084590 1\\nLi     Li       3     0.543159    0.000000    0.944881 1\\nCu     Cu       1     0.000000    0.000000    0.815532 1\\nO      O        1     0.000000    0.000000    0.297696 1\\n#END\\n\\n\",\"cif\",{\"doAssembly\": true, \"duplicateAssemblyAtoms\": true});\n",
       "\tviewer_1726422766321788.setStyle({\"sphere\": {\"colorscheme\": \"Jmol\", \"scale\": 0.25}, \"stick\": {\"colorscheme\": \"Jmol\", \"radius\": 0.1}});\n",
       "\tviewer_1726422766321788.addUnitCell();\n",
       "\tviewer_1726422766321788.replicateUnitCell(1,1,1);\n",
       "\tviewer_1726422766321788.zoomTo();\n",
       "viewer_1726422766321788.render();\n",
       "});\n",
       "</script>"
      ]
     },
     "metadata": {},
     "output_type": "display_data"
    },
    {
     "data": {
      "text/plain": [
       "<py3Dmol.view at 0x7f61fbf49e50>"
      ]
     },
     "execution_count": 9,
     "metadata": {},
     "output_type": "execute_result"
    }
   ],
   "source": [
    "my_crystal = generate_random_crystal_structure_from_composition(['Li', 'O', 'Cu'], [0.8, 0.1, 0.1])\n",
    "pymatgen_to_pyxtal(my_crystal).show()"
   ]
  }
 ],
 "metadata": {
  "kernelspec": {
   "display_name": "mat",
   "language": "python",
   "name": "python3"
  },
  "language_info": {
   "codemirror_mode": {
    "name": "ipython",
    "version": 3
   },
   "file_extension": ".py",
   "mimetype": "text/x-python",
   "name": "python",
   "nbconvert_exporter": "python",
   "pygments_lexer": "ipython3",
   "version": "3.11.10"
  }
 },
 "nbformat": 4,
 "nbformat_minor": 2
}
